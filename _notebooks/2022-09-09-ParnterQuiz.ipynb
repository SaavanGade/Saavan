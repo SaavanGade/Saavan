{
 "cells": [
  {
   "cell_type": "markdown",
   "metadata": {},
   "source": [
    "# Partner NBA Quiz and Extra App"
   ]
  },
  {
   "cell_type": "markdown",
   "metadata": {},
   "source": [
    "[Partner NBA Quiz](https://studio.code.org/projects/applab/3HbqpYWyyQX2RKDlyZBrHajr5EnYgQOfTm_yYsuK9KE) \n",
    "[NBA Stats App](https://studio.code.org/projects/applab/7Y0lavSM7yF-Z4RzlsEZN891GlUtX6bAHHuHWMWoUWw)"
   ]
  },
  {
   "cell_type": "markdown",
   "metadata": {},
   "source": [
    "# Planning and Blogging Findings \n",
    "\n",
    "# Design\n",
    "- Purpose: Derrick and I wanted to create a quiz that tests our audience about different subjects in the NBA. We wanted to create an interactive program that was appealing and fun for viewers who wanted to take the quiz. The quiz tells you if you got the answer right or wrong and makes you go back to the question if you got it wrong and lets you move on if you got it right. \n",
    "- Complexity: The creation of the quiz was not as complex because it was basically made using the same code over and over again. We did not really have to learn whole new langueages in order to incorporate different things into the quiz, everything was pretty straight forward. There were just different buttons and function blocks that we needed to put in certain places in order to output the results we needed to output. \n",
    "\n",
    "# Successes \n",
    "- Purpose: The code again was pretty simple to incorporate so the final product came out as we had expected it come out. All the functions we incorporated had worked and the quiz ran smoothly. \n",
    "- Data Abstraction: In certain situations we would mix up some of the screen variables and the button would lead you to the wrong place but a small investigation of the code would lead to solving these problems fairly quickly. \n",
    "- Complexity: It was a long and tedious process because you had to repeat this code over and over again just to switch between screens and whatnot. Finding and incorporating the code was quite easy but it was how much of it we needed which was the tedious part. \n",
    "\n",
    "# Discoveries \n",
    "- I learned how to create different things within the app to make it more interactive. For example, I learned how to create different dropdown menus and how to even lead a button on to a different screen. I learned how different variables can be manipulated in the overall bigger function to get you to some place that you want the viewer to go to. \n",
    "\n",
    "# Challenges\n",
    "- Our problems were rather small to start off with but they were sometimes very tedious. There were times where we would input a wrong variable in a long chain of code and it would take a minute to find where we had inputed that wrong variable. There were other times that we had not known what line of code we needed to perform a certain function. For example, there was a time where we were not able to figure out how to switch screens using a button because we could not find the line of code required for this task. This took a while to figure out but besides that, all the coding was rather straight forward. "
   ]
  }
 ],
 "metadata": {
  "kernelspec": {
   "display_name": "Python 3.8.10 64-bit",
   "language": "python",
   "name": "python3"
  },
  "language_info": {
   "name": "python",
   "version": "3.8.10"
  },
  "orig_nbformat": 4,
  "vscode": {
   "interpreter": {
    "hash": "916dbcbb3f70747c44a77c7bcd40155683ae19c65e1c03b4aa3499c5328201f1"
   }
  }
 },
 "nbformat": 4,
 "nbformat_minor": 2
}
