{
 "cells": [
  {
   "cell_type": "markdown",
   "metadata": {},
   "source": [
    "# Performance Task Idea \n",
    "- Derrick and I will collaborate and create a theme/idea we are thinking of doing. \n",
    "- As of now one Idea I have that we can do is to create a page where you can click on different basketball players and get links to their greatest highlights and statistics. We can add a search engine so people can search up their names and then find the desired player thehy are looking for. It would allow anyone to easily be able to search for a player and get their best highslights and statistics. \n",
    "- We will likely create different ways to split work such as coding on a notebook and then sharing the code or doing different parts of the coding on different things. \n",
    "- By splitting the work and resolving on an idea we will be able to find a solution to actually create this project and finalize a code. "
   ]
  }
 ],
 "metadata": {
  "kernelspec": {
   "display_name": "Python 3.8.10 64-bit",
   "language": "python",
   "name": "python3"
  },
  "language_info": {
   "name": "python",
   "version": "3.8.10"
  },
  "orig_nbformat": 4,
  "vscode": {
   "interpreter": {
    "hash": "916dbcbb3f70747c44a77c7bcd40155683ae19c65e1c03b4aa3499c5328201f1"
   }
  }
 },
 "nbformat": 4,
 "nbformat_minor": 2
}
