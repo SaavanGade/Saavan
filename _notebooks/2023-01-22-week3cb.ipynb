{
 "cells": [
  {
   "attachments": {},
   "cell_type": "markdown",
   "metadata": {},
   "source": [
    "# Grading\n",
    "\n",
    "- toc: true \n",
    "- badges: true\n",
    "- comments: true"
   ]
  },
  {
   "attachments": {},
   "cell_type": "markdown",
   "metadata": {},
   "source": [
    "# Submission 1\n",
    "| Reporting Category | Student Score | College Board Score | Comments |\n",
    "| - | - | - | - |\n",
    "| Row 1: Program Purpose and Function | 1 | 1 | Inputs and outputs were not described properly, the program is function but the purpose is not describes as well.|\n",
    "| Row 2: Data Abstraction | 0 | 0 | Collegeboard didnt acess data from the list so there was no storage.|\n",
    "| Row 3: Managing Complexity | 0 | 0 | They didnt give a point as the data could have been used within a list and conditional.|\n",
    "| Row 4: Procedural Abstraction | 1 | 0 | No point was given as it didnt have peramaters and funcitionaly through the code|\n",
    "| Row 5: Algorithm Implementation | 1 | 1 | algorithims and parameters were given properly.|\n",
    "| Row 6: Testing | 1 | 1 | He shows that he was able to fulfill all of the requirements that were asked of them. |\n",
    "# Submission 2\n",
    "| Reporting Category | Student Score | College Board Score | Comments |\n",
    "| - | - | - | - |\n",
    "| Row 1: Program Purpose and Function | 1 | 1 | It shows that the program was run very well. |\n",
    "| Row 2: Data Abstraction | 1 | 1 | Collegeboard gave him a point because the code segments displayed were accurate and it stored correct data |\n",
    "| Row 3: Managing Complexity | 1 | 1 | He manages to show the complexities of the issue very well. |\n",
    "| Row 4: Procedural Abstraction | 1 | 1 | Uses procedures and uses them effectively. |\n",
    "| Row 5: Algorithm Implementation | 1 | 1 | College board gave the 1 due to the fact the loops and many parameters implemented a lot of algorithms with accuracy |\n",
    "| Row 6: Testing | 1 | 1 | Alogrithm showing that is addresses all of the different parts and it shows a a good level of complexity. |\n",
    "# Submission 3\n",
    "| Reporting Category | Student Score | College Board Score | Comments |\n",
    "| - | - | - | - |\n",
    "| Row 1: Program Purpose and Function | 1 | 1 | It shows that the program was run very well. Programming functions properly with inputs and outputs. |\n",
    "| Row 2: Data Abstraction | 0 | 0 | Collegeboard didnt give the point as the data wasnt being pulled out from anywhere leaving there to be nothing put into the data. |\n",
    "| Row 3: Managing Complexity | 0 | 0 | criteria not met |\n",
    "| Row 4: Procedural Abstraction | 0 | 0 | criteria not met |\n",
    "| Row 5: Algorithm Implementation | 0 | 0 | criteria not met. |\n",
    "| Row 6: Testing | 0 | 0 | didnt give the point as I beleived the app was not doing as said which is why a 0 was given\t|\n",
    "# Submission 4\n",
    "| Reporting Category | Student Score | College Board Score | Comments |\n",
    "| - | - | - | - |\n",
    "| Row 1: Program Purpose and Function | 1 | 1 | It shows that the program was run very well. |\n",
    "| Row 2: Data Abstraction | 1 | 1 | The problem with this is that there is a list but it doesnt say what its for. |\n",
    "| Row 3: Managing Complexity | 1 | 1 | Includes a list, but that list is not used to manage complexity.|\n",
    "| Row 4: Procedural Abstraction | 1 | 1 | Uses procedures and uses them effectively. |\n",
    "| Row 5: Algorithm Implementation | 1 | 1 | Algorithm works well with the the rest of the program. |\n",
    "| Row 6: Testing | 0 | 0 | Describes both calls, and describes the conditions. |"
   ]
  },
  {
   "attachments": {},
   "cell_type": "markdown",
   "metadata": {},
   "source": [
    "- The college board's grade and mine disagree in a few ways. I felt like mine was a little harder. whenever a description or code fragment is requested in an inquiry. I wouldn't notice anything when I looked at the question. The student may have clarified it elsewhere in their response, though. Additionally, I wasn't entirely sure where sequencing, selection, and iteration were located. I made an effort to find it, but I was forced to deduce it from the video.\n",
    "- My program will have to be quite intricate and capable of having a significant output input, function, and goal. It can't only be an information forum. It must have a function.\n",
    "- The original CPT failed to adequately describe the goal. It is crucial that on understanding the distinction between purpose and function. The objective of the program is purpose. Function is the means through which it is accomplished. A card game of some form could serve as the function and the purpose could be enjoyment. Additionally, this same project did a poor job of explaining things.\n"
   ]
  },
  {
   "attachments": {},
   "cell_type": "markdown",
   "metadata": {},
   "source": [
    "- I think my grade is on par with the marks the College Board gave the example projects. I am well aware of the requirements and what my project needs to succeed. My project must be complete, with a variety of features and abstraction, in order to satisfy all the requirements. I think I understtod most of the topics but some of the things I got confused on were related to the identification of lists and parameters. Sometimes it can be hard to distinguish between them but overall I feel that I learned a lot of new information. "
   ]
  }
 ],
 "metadata": {
  "kernelspec": {
   "display_name": "Python 3.9.12 ('base')",
   "language": "python",
   "name": "python3"
  },
  "language_info": {
   "name": "python",
   "version": "3.9.12"
  },
  "orig_nbformat": 4,
  "vscode": {
   "interpreter": {
    "hash": "b39cc0b7d7b7baa8a40a102196f269dabc963c0136c1c82ab9b0b53a6e35bbf2"
   }
  }
 },
 "nbformat": 4,
 "nbformat_minor": 2
}
