{
 "cells": [
  {
   "cell_type": "markdown",
   "metadata": {},
   "source": [
    "# Grading\n",
    "\n",
    "- toc: true \n",
    "- badges: true\n",
    "- comments: true"
   ]
  },
  {
   "cell_type": "markdown",
   "metadata": {},
   "source": [
    "# Submission 1\n",
    "| Reporting Category | Student Score | College Board Score | Comments |\n",
    "| - | - | - | - |\n",
    "| Row 1: Program Purpose and Function | 0 | 0 | Inputs and outputs were not described properly, the program is function but the purpose is not describes as well.|\n",
    "| Row 2: Data Abstraction | 0 | 0 | The list shows two different code segments but there is no explanation of what their purpose is.|\n",
    "| Row 3: Managing Complexity | 0 | 0 | There is nothing even really here.|\n",
    "| Row 4: Procedural Abstraction | 1 | 0 | Shopws that the procedure is being called.|\n",
    "| Row 5: Algorithm Implementation | 0 | 0 | Loop with iteration and sequencing is shown, not explained good.|\n",
    "| Row 6: Testing | 1 | 1 | He shows that he was able to fulfill all of the requirements that were asked of them. |\n",
    "# Submission 2\n",
    "| Reporting Category | Student Score | College Board Score | Comments |\n",
    "| - | - | - | - |\n",
    "| Row 1: Program Purpose and Function | 1 | 1 | It shows that the program was run very well. |\n",
    "| Row 2: Data Abstraction | 1 | 1 | Two code segments are provided, showing the storage of a list and it being called within a procedure. |\n",
    "| Row 3: Managing Complexity | 1 | 1 | He manages to show the complexities of the issue very well. |\n",
    "| Row 4: Procedural Abstraction | 1 | 1 | Uses procedures and uses them effectively. |\n",
    "| Row 5: Algorithm Implementation | 1 | 1 | Algorithm works well with the the rest of the program. |\n",
    "| Row 6: Testing | 1 | 1 | Alogrithm showing that is addresses all of the different parts and it shows a a good level of complexity. |\n",
    "# Submission 3\n",
    "| Reporting Category | Student Score | College Board Score | Comments |\n",
    "| - | - | - | - |\n",
    "| Row 1: Program Purpose and Function | 1 | 0 | It shows that the program was run very well. Programming functions properly with inputs and outputs. |\n",
    "| Row 2: Data Abstraction | 1 | 1 | Shows two code segments and describes what the list represents and why it's important. |\n",
    "| Row 3: Managing Complexity | 1 | 1 | He manages to show the complexities of the issue very well by using lists to manage alternative and complex options. |\n",
    "| Row 4: Procedural Abstraction | 1 | 1 | Shows a function with parameters. Also shows it being called in the context of the program. |\n",
    "| Row 5: Algorithm Implementation | 1 | 1 | Algorithm works well with the the rest of the program. |\n",
    "| Row 6: Testing | 1 | 1 | Describes two calls, what conditions each one tests, and the results of each one.|\n",
    "# Submission 4\n",
    "| Reporting Category | Student Score | College Board Score | Comments |\n",
    "| - | - | - | - |\n",
    "| Row 1: Program Purpose and Function | 1 | 1 | It shows that the program was run very well. |\n",
    "| Row 2: Data Abstraction | 0 | 0 | The problem with this is that there is a list but it doesnt say what its for. |\n",
    "| Row 3: Managing Complexity | 0 | 0 | Includes a list, but that list is not used to manage complexity.|\n",
    "| Row 4: Procedural Abstraction | 1 | 1 | Uses procedures and uses them effectively. |\n",
    "| Row 5: Algorithm Implementation | 1 | 1 | Algorithm works well with the the rest of the program. |\n",
    "| Row 6: Testing | 1 | 0 | Describes both calls, and describes the conditions. |\n",
    "\n"
   ]
  },
  {
   "attachments": {},
   "cell_type": "markdown",
   "metadata": {},
   "source": [
    "- Submission 1: Student 2 actually received a better grade from me than from College Board, who only awarded them a 1/6. I gave them a 2/6. This small disparity was caused by the Procedural Abstraction row, where I had granted the student an extra point since I thought they had successfully demonstrated a one-program code with at least one parameter, but the College Board had decided not to do so.\n",
    "- Submission 2: Given that we could both agree that this student had complied with every single condition necessary to secure their 6/6 mark, there was no disagreement between my scoring and the College Board's in this case. Each and every objective was comprehensively explained, with a clear purpose and an explanation of inputs and consequences.\n",
    "- Submission 3: The College Board had awarded this student a 5/6 score and I dont agree with this scoring. I think this student got a perfect score. This minor discrepancy stems from the fact that I had given them the point on the program purpose and function row, and it was mainly because the student couldnt address their main function and purpose. \n",
    "- Submission 4: I gave this student a 4/6 while collegeboard gave them a 3/6. The problems really came from the lack of the complexity within their code and their ignorance of adding certain listws. \n",
    "\n"
   ]
  },
  {
   "attachments": {},
   "cell_type": "markdown",
   "metadata": {},
   "source": [
    "# Summary\n",
    "- I think my grade is on par with the marks the College Board gave the example projects. I am well aware of the requirements and what my project needs to succeed. My project must be complete, with a variety of features and abstraction, in order to satisfy all the requirements. I also saw that planning is essential for the development process. Lack of explanations of how something works is one of the key reasons a submission might not have satisfied the requirements in one area. "
   ]
  }
 ],
 "metadata": {
  "kernelspec": {
   "display_name": "Python 3.9.12 ('base')",
   "language": "python",
   "name": "python3"
  },
  "language_info": {
   "name": "python",
   "version": "3.9.12"
  },
  "orig_nbformat": 4,
  "vscode": {
   "interpreter": {
    "hash": "b39cc0b7d7b7baa8a40a102196f269dabc963c0136c1c82ab9b0b53a6e35bbf2"
   }
  }
 },
 "nbformat": 4,
 "nbformat_minor": 2
}
