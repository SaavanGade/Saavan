{
 "cells": [
  {
   "cell_type": "markdown",
   "metadata": {},
   "source": [
    "# Grading\n",
    "\n",
    "- toc: true \n",
    "- badges: true\n",
    "- comments: true"
   ]
  },
  {
   "cell_type": "markdown",
   "metadata": {},
   "source": [
    "# Submission 1\n",
    "| Reporting Category | Student Score | College Board Score | Comments |\n",
    "| - | - | - | - |\n",
    "| Row 1: Program Purpose and Function | 0 | 0 | Inputs and outputs were not described properly, the program is function but the purpose is not describes as well.|\n",
    "| Row 2: Data Abstraction | 0 | 0 | The list shows two different code segments but there is no explanation of what their purpose is.|\n",
    "| Row 3: Managing Complexity | 0 | 0 | There is nothing even really here.|\n",
    "| Row 4: Procedural Abstraction | 1 | 0 | Shopws that the procedure is being called.|\n",
    "| Row 5: Algorithm Implementation | 0 | 0 | Loop with iteration and sequencing is shown, not explained good.|\n",
    "| Row 6: Testing | 1 | 1 | He shows that he was able to fulfill all of the requirements that were asked of them. |\n",
    "# Submission 2\n",
    "| Reporting Category | Student Score | College Board Score | Comments |\n",
    "| - | - | - | - |\n",
    "| Row 1: Program Purpose and Function | 1 | 1 | It shows that the program was run very well. |\n",
    "| Row 2: Data Abstraction | 1 | 1 | Two code segments are provided, showing the storage of a list and it being called within a procedure. |\n",
    "| Row 3: Managing Complexity | 1 | 1 | He manages to show the complexities of the issue very well. |\n",
    "| Row 4: Procedural Abstraction | 1 | 1 | Uses procedures and uses them effectively. |\n",
    "| Row 5: Algorithm Implementation | 1 | 1 | Algorithm works well with the the rest of the program. |\n",
    "| Row 6: Testing | 1 | 1 | Alogrithm showing that is addresses all of the different parts and it shows a a good level of complexity. |\n",
    "# Submission 3\n",
    "| Reporting Category | Student Score | College Board Score | Comments |\n",
    "| - | - | - | - |\n",
    "| Row 1: Program Purpose and Function | 1 | 0 | It shows that the program was run very well. Programming functions properly with inputs and outputs. |\n",
    "| Row 2: Data Abstraction | 1 | 1 | Shows two code segments and describes what the list represents and why it's important. |\n",
    "| Row 3: Managing Complexity | 1 | 1 | He manages to show the complexities of the issue very well by using lists to manage alternative and complex options. |\n",
    "| Row 4: Procedural Abstraction | 1 | 1 | Shows a function with parameters. Also shows it being called in the context of the program. |\n",
    "| Row 5: Algorithm Implementation | 1 | 1 | Algorithm works well with the the rest of the program. |\n",
    "| Row 6: Testing | 1 | 1 | Describes two calls, what conditions each one tests, and the results of each one.|\n",
    "# Submission 4\n",
    "| Reporting Category | Student Score | College Board Score | Comments |\n",
    "| - | - | - | - |\n",
    "| Row 1: Program Purpose and Function | 1 | 1 | It shows that the program was run very well. |\n",
    "| Row 2: Data Abstraction | 0 | 0 | The problem with this is that there is a list but it doesnt say what its for. |\n",
    "| Row 3: Managing Complexity | 0 | 0 | Includes a list, but that list is not used to manage complexity.|\n",
    "| Row 4: Procedural Abstraction | 1 | 1 | Uses procedures and uses them effectively. |\n",
    "| Row 5: Algorithm Implementation | 1 | 1 | Algorithm works well with the the rest of the program. |\n",
    "| Row 6: Testing | 1 | 0 | Describes both calls, and describes the conditions. |\n",
    "\n"
   ]
  }
 ],
 "metadata": {
  "kernelspec": {
   "display_name": "Python 3.9.12 ('base')",
   "language": "python",
   "name": "python3"
  },
  "language_info": {
   "name": "python",
   "version": "3.9.12"
  },
  "orig_nbformat": 4,
  "vscode": {
   "interpreter": {
    "hash": "b39cc0b7d7b7baa8a40a102196f269dabc963c0136c1c82ab9b0b53a6e35bbf2"
   }
  }
 },
 "nbformat": 4,
 "nbformat_minor": 2
}
