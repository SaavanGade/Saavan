{
 "cells": [
  {
   "cell_type": "markdown",
   "metadata": {},
   "source": [
    "# College board 5.3\n",
    "\n",
    "- toc: true\n",
    "- comments: true\n",
    "- layout: post"
   ]
  },
  {
   "attachments": {},
   "cell_type": "markdown",
   "metadata": {},
   "source": [
    "# College Board 5.3\n",
    "- Facebook is for ages of 25-34 and tiktok is mostly 13-17 and there is no purposeful exclusion because evryone can access the apps but due to generational gap not everyone actually decisdes to use them. It is not harmful because teir buiisnesses can benefit from specific age groups using it but there it is not harming others that are not using it and those that are using it. It should not be corrected because targeting specific age groups leads to good buisnesses for these companies and restricting this can harm buisness with no real benefits. \n",
    "- Humans ave a preference for te sound of female voices over men. Research says they find it more soothing and easier to listen to. ALexa and other softwares most likely use this to get their customers to be more satisfied with their product and come back to use it. It is not harmful because they are making it so that the voices sound more soothing.  \n",
    "\n",
    "# Video\n",
    "- He does think that the computers were racist because he kept calling them out for being raciost towards him but not white people. \n",
    "- This happened because they clearly did not do enough testing and the teesting that they did do was primarily on people with lighter skin tones. \n",
    "- It is harmful because it is specifically exclusiung people with darker skin colors. This is the digital version of the 1900s. \n",
    "\n",
    "# Crowdsourcing\n",
    "- A crowdsource idea that could be initiated in a CompSci class with 150 students is a code library. The goal of the code library would be to compile a collection of reusable code snippets and algorithms that students can contribute to and draw from for their projects.\n",
    "\n",
    "To initiate this crowdsource project, the instructor could provide a template for code submissions that includes the type of code snippet, a brief description, and any relevant information. The instructor could then announce the project to the class and encourage students to submit their code snippets via a shared online platform such as Google Drive or Github.\n",
    "\n",
    "To encourage participation, the instructor could offer extra credit or recognition for the students who submit the most valuable code snippets. Additionally, the instructor could lead a class discussion on the different submissions and provide feedback on how the students can improve their code. \n",
    "- Crowdsourcing could potentially enhance your period tracker project at Del Norte High School by providing access to a larger and more diverse user base. By allowing students to contribute to and use the app, you can gather valuable feedback and insights that could improve its functionality and overall user experience.\n",
    "\n",
    "For example, students could provide suggestions for new features or report any bugs they encounter. This information could then be used to make updates and improvements to the app. Additionally, crowdsourced data could be used to generate statistics and insights into menstrual patterns, which could provide valuable information for both students and teachers.\n",
    "- I could gain data about the different types of cooding teqhniques each students sued for their various projects and complie that data to show teachers which were mostly used for each subject/topic. "
   ]
  }
 ],
 "metadata": {
  "kernelspec": {
   "display_name": "Python 3.9.12 ('base')",
   "language": "python",
   "name": "python3"
  },
  "language_info": {
   "name": "python",
   "version": "3.9.12"
  },
  "orig_nbformat": 4,
  "vscode": {
   "interpreter": {
    "hash": "b39cc0b7d7b7baa8a40a102196f269dabc963c0136c1c82ab9b0b53a6e35bbf2"
   }
  }
 },
 "nbformat": 4,
 "nbformat_minor": 2
}
