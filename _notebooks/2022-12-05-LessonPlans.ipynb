{
 "cells": [
  {
   "attachments": {},
   "cell_type": "markdown",
   "metadata": {},
   "source": [
    "# Vocabulary\n",
    "- toc: true \n",
    "- badges: true\n",
    "- comments: true\n",
    "- categories: [slatt]\n",
    "- permalink: /hackzzzzz\n",
    "- image: images/chart-preview.png"
   ]
  },
  {
   "attachments": {},
   "cell_type": "markdown",
   "metadata": {},
   "source": [
    "# Vocab/Blogs\n",
    "# Essential Knowledge\n",
    "- A variable is an abstraction inside a program that holds a value, where each variable has associated data storage that represents a single value at a time (However, if the value is a collection type such as a list, then the value can contain multiple values).\n",
    "- Variables typically have meaningful names that helps with the overall organization of the code\n",
    "- Some programming languages provide a variety of methods to represent data, which are referenced using variables 9Booleans, numbers, lists, and strings) One form of a value is better suited for representation than another.\n",
    "# What is a Variable?\n",
    "- A variable is an abstraction made inside a program that holds a value. These variables are used in code to refer to more comples values that the variable contains and makes the program code more organized and smoother to run.\n",
    "# Data Types\n",
    "- Variables have data types that store specific kinds of data depending on what is being represented. Some examples are shown below:\n",
    "- integer (numbers)\n",
    "- string (or text/letters)\n",
    "- Boolean (True/False statements) \n",
    "# Data Abstraction \n",
    "- Data abstraction can be created with lists.\n",
    "- Lists bundle together multiple elements and/or variables under one name are not defined with specified lengths.\n",
    "- The variables that are stored in a list do not have to be limited to one kind of variable. \n",
    "- You can also simplify code segments to better output function and make the process as a whole earlier. \n"
   ]
  },
  {
   "cell_type": "markdown",
   "metadata": {},
   "source": [
    "# What is a boolean?\n",
    "- A data type with two possible values: true or false\n",
    "- Boolean and Binary\n",
    "- So similar yet so different.\n",
    "- Boolean math and binary notation both use the same two ciphers: 1 and 0.\n",
    "- However, please note that Boolean quantities are restricted to a singlular bit (can only be either 1, or 0)\n",
    "- On the otherhand, binary numbers may be composed of many bits adding up in place-weighted form to any finite value, or size\n",
    "# Must Knows\n",
    "- A Boolean value is either TRUE or FALSE"
   ]
  },
  {
   "cell_type": "markdown",
   "metadata": {},
   "source": [
    "# Relational Operators"
   ]
  },
  {
   "cell_type": "code",
   "execution_count": null,
   "metadata": {},
   "outputs": [],
   "source": [
    "grade1 = 90\n",
    "grade2 = 65\n",
    "grade3 = 60\n",
    "grade4 = 75\n",
    "grade5 = 95 "
   ]
  },
  {
   "cell_type": "code",
   "execution_count": 1,
   "metadata": {},
   "outputs": [
    {
     "name": "stdout",
     "output_type": "stream",
     "text": [
      "100 == 100: True\n",
      "Hello == Adios: False\n",
      "Hello != Adios: True\n",
      "Hello == Hola: True\n",
      "5>=4: True\n",
      "\n",
      "['a','b','c'] > ['x','y','z']: False\n",
      "[1,2,3,5] > [1,2,3,4]: True\n",
      "[1,2,3,5] < [1,2,3,4]: False\n",
      "[1,2,3,5] == [1,2,3,4]: False\n"
     ]
    }
   ],
   "source": [
    "print(\"100 == 100:\",100==100)\n",
    "print(\"Hello == Adios:\",\"greeting\"==\"farewell\")\n",
    "print(\"Hello != Adios:\",\"greeting\"!=\"farewell\")\n",
    "print(\"Hello == Hola:\",\"greeting\"==\"greeting\")\n",
    "print(\"5>=4:\", 5>=4)\n",
    "print ('')\n",
    "\n",
    "# Notice that relational operators can even work on lists!\n",
    "# For lists, the relational operator compares each respective component until an answer is derived\n",
    "\n",
    "print(\"['a','b','c'] > ['x','y','z']:\", ['a','b','c'] > ['x','y','z'])\n",
    "print(\"[1,2,3,5] > [1,2,3,4]:\", [1,2,3,5] > [1,2,3,4])\n",
    "print(\"[1,2,3,5] < [1,2,3,4]:\", [1,2,3,5] < [1,2,3,4])\n",
    "print(\"[1,2,3,5] == [1,2,3,4]:\", [1,2,3,5] == [1,2,3,4])"
   ]
  },
  {
   "cell_type": "markdown",
   "metadata": {},
   "source": [
    "# Logical Operators\n",
    "- These types of operators don't necessarily deal with equivalent/non-equivalent values, but they rather work on operands to produce a singular boolean result\n",
    "\n",
    "- AND : returns TRUE if the operands around it are TRUE\n",
    "- OR : returns TRUE if at least one operand is TRUE\n",
    "- NOT : returns TRUE if the following boolean is FALSE"
   ]
  },
  {
   "cell_type": "code",
   "execution_count": null,
   "metadata": {},
   "outputs": [],
   "source": [
    "print(\"1 > 2 or 5 < 12:\",)\n",
    "# Output TRUE  using OR ^\n",
    "\n",
    "\n",
    "# Output FALSE using NOT\n",
    "print(\"24 > 8:\",)\n",
    "\n",
    "# Output FALSE using AND\n",
    "print(\"10 > 20:\",) "
   ]
  },
  {
   "cell_type": "markdown",
   "metadata": {},
   "source": [
    "# Conditional Statements\n"
   ]
  },
  {
   "cell_type": "code",
   "execution_count": null,
   "metadata": {},
   "outputs": [],
   "source": [
    "x = 20\n",
    "y = 10\n",
    "if x > y:\n",
    "    print(\"x is greater than y\")"
   ]
  },
  {
   "cell_type": "code",
   "execution_count": null,
   "metadata": {},
   "outputs": [],
   "source": [
    "protein = 25\n",
    "carbs = 36\n",
    "sugar = 11\n",
    "if (carbs >= 55 || protein <= 20 || sugar >= 15)\n",
    "{\n",
    "    console.log(\"Your lunch is too unhealthy, please pick a new one\")\n",
    "}\n",
    "else\n",
    "{\n",
    "    if (carbs < 35 || protein < 25)\n",
    "    {\n",
    "    console.log (\"This lunch is alright but try to add some more carbs or protein\")\n",
    "    }\n",
    "    else \n",
    "    {\n",
    "    if (sugar >= 11)\n",
    "    {\n",
    "    console.log (\"Looks great but lets see if we can cut down on sugar, we don't want diabetes!\")\n",
    "    }\n",
    "    else\n",
    "    {\n",
    "        console.log (\"Amazing, you created a healthy lunch!!!\")\n",
    "    }\n",
    "    }\n",
    "}"
   ]
  },
  {
   "attachments": {},
   "cell_type": "markdown",
   "metadata": {},
   "source": [
    "- variables - A variable is an abstraction inside a program that can hold a value. Each variable has associated data storage that represents one value at a time, but that value can be a list or other collection that in turn contains multiple values. Using meaningful variable names helps with readability of program code and understanding of what values are represented by the variables. Some programming languages provide types to represent data, which are referenced using variables.\n",
    "\n",
    "- data types- integer, string, float, boolean, lists, dictionaries, arrays, etc.\n",
    "\n",
    "- lists- Lists are used to store multiple items in a single variable.\n",
    "\n",
    "- dictionaries - A dictionary consists of a collection of key-value pairs. Each key-value pair maps the key to its associated value.\n",
    "\n",
    "- A plus sign indicates addition: a + b\n",
    "\n",
    "- A subtraction sign indicates subtraction: a - b\n",
    "\n",
    "- An asterisk/star indicates multiplication: a * b\n",
    "\n",
    "- A slash indicates division: a / b\n",
    "\n",
    "- MOD represent the Modulus operator. Returns the value after division: a MOD b\n",
    "\n",
    "- algorithms - finite set of instructions that accomplish a specific task, composed of sequencing, selection, and iteration.\n",
    "\n",
    "- sequence - a section of code is run only if a condition is met. (ex: if statements)\n",
    "\n",
    "- selection - repeating steps or instructions over and over again (ex: loops)\n",
    "\n",
    "- iteration - outline or set of steps that we do and follow in order that they are given\n",
    "\n",
    "- strings - a sequence of characters\n",
    "\n",
    "- concatenation - combines two or more strings into one\n",
    "\n",
    "Characters, Strings, Length, Concatenation, Upper, Lower, Traversing Strings\n",
    "\n",
    "- Characters: display unit of information equivalent to one alphabetic letter or symbol\n",
    "- ex. a, 8, #\n",
    "- Strings: ordered sequences of characters\n",
    "- Length: the number of symbols output.\n",
    "- Concatenation: String concatenation is combining 2 or more strings to make a new strings in order to create a new string concat() in pseudocode and varys from language to language can be used to combine to strings such as concat(\"cookie\",\"monster\") returns cookiemonster\n",
    "- Upper: used to check if the argument contains any uppercase characters returns \"True\" if all characters in the string are uppercase, Otherwise, It returns \"False\"\n",
    "- Lower: returns the lowercase string from the given string\n",
    "- Traversing Strings: the process of going through a String one character at a time, often using loops\n",
    "- Python If, Elif, Else conditionals; Nested Selection Statements\n",
    "- If: statement executes a piece of code when one statement is false and the following statement is true\n",
    "- Elif: first if statement isn't true, but want to check for another condition\n",
    "- Else: executes if \"if\" isn't true\n",
    "- Nested Conditionals: when more than one decision must be made before the appropriate action can be taken"
   ]
  },
  {
   "attachments": {},
   "cell_type": "markdown",
   "metadata": {},
   "source": [
    "Binary Numbers: Unsigned Integer, Signed Integer, Floating Point\n",
    "- a binary digit, or bit, is the smallest unit of data\n",
    "unsigned: integers that don't have a sign associated with them\n",
    "ex. 1, 2\n",
    "- signed: A signed integer is a 32-bit datum that encodes an integer in the range [-2147483648 to 2147483647]\n",
    "-100, 80\n",
    "- Floating point: a positive or negative whole number with a decimal point\n",
    "ex. 5.5\n",
    "- Binary Data Abstractions: Boolean, ASCII, Unicode, RGB\n",
    "Boolean: datatype that does true or false\n",
    "- ASCII: a character encoding scheme in which each character is represented by a 7-bit (originally) or 8-bit binary sequence"
   ]
  }
 ],
 "metadata": {
  "kernelspec": {
   "display_name": "Python 3",
   "language": "python",
   "name": "python3"
  },
  "language_info": {
   "codemirror_mode": {
    "name": "ipython",
    "version": 3
   },
   "file_extension": ".py",
   "mimetype": "text/x-python",
   "name": "python",
   "nbconvert_exporter": "python",
   "pygments_lexer": "ipython3",
   "version": "3.8.10 (default, Jun 22 2022, 20:18:18) \n[GCC 9.4.0]"
  },
  "orig_nbformat": 4,
  "vscode": {
   "interpreter": {
    "hash": "916dbcbb3f70747c44a77c7bcd40155683ae19c65e1c03b4aa3499c5328201f1"
   }
  }
 },
 "nbformat": 4,
 "nbformat_minor": 2
}
