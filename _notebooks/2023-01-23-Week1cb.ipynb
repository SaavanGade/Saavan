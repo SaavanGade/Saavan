{
 "cells": [
  {
   "attachments": {},
   "cell_type": "markdown",
   "metadata": {},
   "source": [
    "\n",
    "# Submission 1\n",
    "| Reporting Category | Student Score | College Board Score | Comments |\n",
    "| - | - | - | - |\n",
    "| Row 1: Program Purpose and Function | 0 | 1 | The student shows that the program works well.|\n",
    "| Row 2: Data Abstraction | 1 | 0 | The list has various ways to filter the triangles. |\n",
    "| Row 3: Managing Complexity | 0 | 0 | The list doesn’t show what he is doing. |\n",
    "| Row 4: Procedural Abstraction | 1 | 1 | 3.c.i. and 3.c.ii. The procedure is called. |\n",
    "| Row 5: Algorithm Implementation | 1 | 1 | His written response was detailed and showed what he needed. |\n",
    "| Row 6: Testing | 1 | 1 | His response shows  that he met the conditions in the requirements. |\n",
    "# Submission 2\n",
    "| Reporting Category | Student Score | College Board Score | Comments |\n",
    "| - | - | - | - |\n",
    "| Row 1: Program Purpose and Function | 1 | 1 | The video shows that the program runs well. |\n",
    "| Row 2: Data Abstraction | 0 | 1 | There is no list. |\n",
    "| Row 3: Managing Complexity | 0 | 1 | Manages complexity well. |\n",
    "| Row 4: Procedural Abstraction | 1 | 1 | Uses procedures and uses them effectively. |\n",
    "| Row 5: Algorithm Implementation | 1 | 1 | Algorithm works well with the the rest of the program. |\n",
    "| Row 6: Testing | 1 | 1 | Alogrithm works and written response adresses all the requirements. |"
   ]
  }
 ],
 "metadata": {
  "kernelspec": {
   "display_name": "Python 3",
   "language": "python",
   "name": "python3"
  },
  "language_info": {
   "name": "python",
   "version": "3.8.10 (default, Jun 22 2022, 20:18:18) \n[GCC 9.4.0]"
  },
  "orig_nbformat": 4,
  "vscode": {
   "interpreter": {
    "hash": "916dbcbb3f70747c44a77c7bcd40155683ae19c65e1c03b4aa3499c5328201f1"
   }
  }
 },
 "nbformat": 4,
 "nbformat_minor": 2
}
