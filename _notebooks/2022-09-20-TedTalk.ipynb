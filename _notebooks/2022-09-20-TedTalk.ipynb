{
 "cells": [
  {
   "cell_type": "markdown",
   "metadata": {},
   "source": [
    "# Ted Talk Notes\n",
    "- A blog about our takeaways from the ted talk. "
   ]
  },
  {
   "cell_type": "markdown",
   "metadata": {},
   "source": [
    "# Notes\n",
    "- There are roughly about 40 percent of students who either have too much stress or believe that they are useless in school. \n",
    "- 1/3 of students say they are depressed and 60 percent say they have a ton of anxiety. \n",
    "\n",
    "# Our Thoughts\n",
    "- Me: I believe that it was incredible to see how many depressed students there are right now. 1/3 is an incredibly large portion and that number needs to be brought severly down because the stress of school is not worth losing ones life over. \n",
    "- Derek: He thought it was interesting how people dealed with stress in the video. He too is a highschool student who suffers from stress so it is important for him to know what he can do to prevent this stress. \n",
    "- Dylan: He thought it was interesting how anxious students got over time. He is worried that he too will be overstressed in college and other aspectes of his life and he needs to find ways to deal with it. \n",
    "- Rohan: He found that the video was relatable and he too was interested in the methods to reliving stress. He thinks that stress hinders the ability to truly learn and that in order to be a good student you need to be able to be flexible. \n",
    "\n",
    "# People I am grateful for\n",
    "- Someone on campus: Mr Yeung is my biggest idol and inspiration. Without him in this school teaching me I would be lost and have no sense of life. He gives me motivation and daily inspiration because without his help, I would never be able to succed. I want to one day grow up and be like Mr.Yeung. \n",
    "- Someone off campus: Im grateful for my mom cause she cooked some good chicken the other night. \n",
    "\n"
   ]
  }
 ],
 "metadata": {
  "kernelspec": {
   "display_name": "Python 3.8.10 64-bit",
   "language": "python",
   "name": "python3"
  },
  "language_info": {
   "name": "python",
   "version": "3.8.10"
  },
  "orig_nbformat": 4,
  "vscode": {
   "interpreter": {
    "hash": "916dbcbb3f70747c44a77c7bcd40155683ae19c65e1c03b4aa3499c5328201f1"
   }
  }
 },
 "nbformat": 4,
 "nbformat_minor": 2
}
