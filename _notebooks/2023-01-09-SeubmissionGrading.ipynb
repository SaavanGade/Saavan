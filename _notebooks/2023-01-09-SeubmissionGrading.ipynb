{
 "cells": [
  {
   "attachments": {},
   "cell_type": "markdown",
   "metadata": {},
   "source": [
    "# Submission 1\n",
    "| Reporting Category | Student Score | College Board Score | Comments |\n",
    "| - | - | - | - |\n",
    "| Row 1: Program Purpose and Function | 0 | 1 | The student in the video shows a great understanding of what was required in the video.|\n",
    "| Row 2: Data Abstraction | 1 | 0 | The list shows different ways to show the triangles.|\n",
    "| Row 3: Managing Complexity | 0 | 0 | The list doesn’t show what exactly he is in the process of completing.|\n",
    "| Row 4: Procedural Abstraction | 1 | 1 | Shopws that the procedure is being called.|\n",
    "| Row 5: Algorithm Implementation | 1 | 1 | He shows that the written response is detailed and interactive.|\n",
    "| Row 6: Testing | 1 | 1 | He shows that he was able to fulfill all of the requirements that were asked of them. |\n",
    "# Submission 2\n",
    "| Reporting Category | Student Score | College Board Score | Comments |\n",
    "| - | - | - | - |\n",
    "| Row 1: Program Purpose and Function | 1 | 1 | It shows that the program was run very well. |\n",
    "| Row 2: Data Abstraction | 0 | 1 | The problem with this is that there is no list. |\n",
    "| Row 3: Managing Complexity | 0 | 1 | He manages to show the complexities of the issue very well. |\n",
    "| Row 4: Procedural Abstraction | 1 | 1 | Uses procedures and uses them effectively. |\n",
    "| Row 5: Algorithm Implementation | 1 | 1 | Algorithm works well with the the rest of the program. |\n",
    "| Row 6: Testing | 1 | 1 | Alogrithm showing that is addresses all of the different parts and it shows a a good level of complexity. |"
   ]
  },
  {
   "cell_type": "code",
   "execution_count": null,
   "metadata": {},
   "outputs": [],
   "source": []
  }
 ],
 "metadata": {
  "language_info": {
   "name": "python"
  },
  "orig_nbformat": 4
 },
 "nbformat": 4,
 "nbformat_minor": 2
}
