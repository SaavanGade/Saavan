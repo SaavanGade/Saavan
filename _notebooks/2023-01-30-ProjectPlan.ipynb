{
 "cells": [
  {
   "attachments": {},
   "cell_type": "markdown",
   "metadata": {},
   "source": [
    "# College Board Create Performance Task for FLOW"
   ]
  },
  {
   "attachments": {},
   "cell_type": "markdown",
   "metadata": {},
   "source": [
    "| Reporting Category | Student Score | Comments |\n",
    "| - | - | - |\n",
    "| Row 1: Program Purpose and Function | 1 | Gives user a sense of motivation and support through a tough period of time and it provides new message each day so user gets brand new waves of support each day. Allows for users to get newfound motivation through a tough time and is meant to be inspirational for these people.|\n",
    "| Row 2: Data Abstraction | 1 | Use of API so that new quotes/messages are generated each day. API generates new quotes and it shows on the frontend of the website. Make use of OOP hacks and new quotes are generated.|\n",
    "| Row 3: Managing Complexity | 1 | Most likely using a list or a dictionary to input the API so that the quotes are changing everyday for the front end. In this process many variables will be used and the code will be more short and provide the same functions. It will allow for easier coding and serve the same purpose. |\n",
    "| Row 4: Procedural Abstraction | 1 | The addQuote procedure will be used to add new quotes to the program (API) each day.|\n",
    "| Row 5: Algorithm Implementation | 1 | My algorithim will call for a new quote each day based on time or maybe countdown of a day. It will generate new quote each day and refer back to algoritihim on same time table.|\n",
    "| Row 6: Testing | 1 | I will add quotes and add a countdown to see if it changes on the front end. Then I can wait for a day and see if it changes. |"
   ]
  },
  {
   "attachments": {},
   "cell_type": "markdown",
   "metadata": {},
   "source": [
    "# Video Plan\n",
    "- For the Video I would likely record towards midnight so that I could show the time of the day and the quote changing along with it. By recording the time I would instiuite a sort of countdown on the screen so that the viewer can see the countdown and see the screen change whern the timer hits 0 and the actual clock gets to midnight. By dispolaying the changes on the frontend the viewer can get a good idea of what is going on with the websit3e. I will also show the backend and show some of the commands that I used to implement this process."
   ]
  }
 ],
 "metadata": {
  "kernelspec": {
   "display_name": "Python 3",
   "language": "python",
   "name": "python3"
  },
  "language_info": {
   "name": "python",
   "version": "3.8.10 (default, Jun 22 2022, 20:18:18) \n[GCC 9.4.0]"
  },
  "orig_nbformat": 4,
  "vscode": {
   "interpreter": {
    "hash": "916dbcbb3f70747c44a77c7bcd40155683ae19c65e1c03b4aa3499c5328201f1"
   }
  }
 },
 "nbformat": 4,
 "nbformat_minor": 2
}
