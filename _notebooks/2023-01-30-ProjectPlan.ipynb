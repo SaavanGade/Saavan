{
 "cells": [
  {
   "attachments": {},
   "cell_type": "markdown",
   "metadata": {},
   "source": [
    "# College Board Create Performance Task for FLOW"
   ]
  },
  {
   "attachments": {},
   "cell_type": "markdown",
   "metadata": {},
   "source": [
    "| Reporting Category | Student Score | Comments |\n",
    "| - | - | - |\n",
    "| Row 1: Program Purpose and Function | 1 | Gives user a sense of motivation and support through a tough period of time and it provides new message each day so user gets brand new waves of support each day. Allows for users to get newfound motivation through a tough time and is meant to be inspirational for these people.|\n",
    "| Row 2: Data Abstraction | 1 | Use of API so that new quotes/messages are generated each day. API generates new quotes and it shows on the frontend of the website. Make use of OOP hacks and new quotes are generated.|\n",
    "| Row 3: Managing Complexity | 1 | Most likely using a list or a dictionary to input the API so that the quotes are changing everyday for the front end. In this process many variables will be used and the code will be more short and provide the same functions. It will allow for easier coding and serve the same purpose. |\n",
    "| Row 4: Procedural Abstraction | 1 | The addQuote procedure will be used to add new quotes to the program (API) each day.|\n",
    "| Row 5: Algorithm Implementation | 1 | My algorithim will call for a new quote each day based on time or maybe countdown of a day. It will generate new quote each day and refer back to algoritihim on same time table.|\n",
    "| Row 6: Testing | 1 | I will add quotes and add a countdown to see if it changes on the front end. Then I can wait for a day and see if it changes. | "
   ]
  }
 ],
 "metadata": {
  "kernelspec": {
   "display_name": "Python 3.9.12 ('base')",
   "language": "python",
   "name": "python3"
  },
  "language_info": {
   "name": "python",
   "version": "3.9.12"
  },
  "orig_nbformat": 4,
  "vscode": {
   "interpreter": {
    "hash": "b39cc0b7d7b7baa8a40a102196f269dabc963c0136c1c82ab9b0b53a6e35bbf2"
   }
  }
 },
 "nbformat": 4,
 "nbformat_minor": 2
}
