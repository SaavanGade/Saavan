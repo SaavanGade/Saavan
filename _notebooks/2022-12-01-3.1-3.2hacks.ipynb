{
 "cells": [
  {
   "cell_type": "markdown",
   "metadata": {},
   "source": [
    "# 3.1-3.2 Hacks\n",
    "> Hacks for class\n",
    "\n",
    "- toc: true \n",
    "- badges: true\n",
    "- comments: true\n",
    "- categories: [slatt]\n",
    "- permalink: /hackzzzzz\n",
    "- image: images/chart-preview.png"
   ]
  },
  {
   "cell_type": "markdown",
   "metadata": {},
   "source": [
    "# Hack 1"
   ]
  },
  {
   "cell_type": "code",
   "execution_count": 1,
   "metadata": {},
   "outputs": [
    {
     "name": "stdout",
     "output_type": "stream",
     "text": [
      "Saavan is 17\n"
     ]
    }
   ],
   "source": [
    "age = \"17\"\n",
    "name = \"Saavan\"\n",
    "\n",
    "print(name + \" is \" + age)"
   ]
  },
  {
   "attachments": {},
   "cell_type": "markdown",
   "metadata": {},
   "source": [
    "# Hack 2\n",
    "# What is an Assignment Operator? \n",
    "- An equal sign is an assignment operator as it assigns variable to a value In Collegeboard pseudocode, what symbol is used to assign values to variables?\n",
    "- Arrow is used to assign values.\n",
    "- A variable, x, is initially given a value of 15. Later on, the value for x is changed to 22. If you print x, would the command display 15 or 22?\n",
    "- it would output 22 \n",
    "# What is a list\n",
    "- a bundle of elements \n",
    "- What is an element?\n",
    "- an element could be a number or integer, string, or a boolean expression \n",
    "- What is an easy way to reference the elements in a list or string?\n",
    "- You can use index to find the elements in a list \n",
    "- What is an example of a string?\n",
    "- “amay”  is an example of a string"
   ]
  },
  {
   "cell_type": "code",
   "execution_count": 2,
   "metadata": {},
   "outputs": [
    {
     "name": "stdout",
     "output_type": "stream",
     "text": [
      "burrito\n",
      "burrito\n"
     ]
    }
   ],
   "source": [
    "food = [\"burger\", \"tacos\", \"burrito\"]\n",
    "print(food[2])\n",
    "print(food[-1])"
   ]
  },
  {
   "cell_type": "code",
   "execution_count": 4,
   "metadata": {},
   "outputs": [
    {
     "name": "stdout",
     "output_type": "stream",
     "text": [
      "Saavan ['burger', 'tacos', 'burrito']\n"
     ]
    }
   ],
   "source": [
    "name = \"Saavan\"\n",
    "favoritefood = [\"burger\", \"tacos\", \"burrito\"]\n",
    "print(name, favoritefood)"
   ]
  },
  {
   "cell_type": "markdown",
   "metadata": {},
   "source": [
    "# Hack 3"
   ]
  },
  {
   "cell_type": "code",
   "execution_count": 8,
   "metadata": {},
   "outputs": [
    {
     "name": "stdout",
     "output_type": "stream",
     "text": [
      "Original-> [8, 12, 16]\n",
      "Add-> 4\n",
      "New-> [12, 16, 20]\n"
     ]
    }
   ],
   "source": [
    "num1=input(\"Input a number. \")\n",
    "num2=input(\"Input a number. \")\n",
    "num3=input(\"Input a number. \")\n",
    "add=input(\"How much would you like to add? \")\n",
    "\n",
    "# Add code\n",
    "\n",
    "numlist = [int(num1), int(num2), int(num3)]\n",
    "# shows the original numbers to the user\n",
    "print(\"Original->\",numlist)\n",
    "# add the new number to the original input\n",
    "print(\"Add->\",add)\n",
    "\n",
    "# code that adds the inputted addend to the other numbers\n",
    "\n",
    "for i in range(len(numlist)):\n",
    "    numlist[i -1] += int(add)\n",
    "\n",
    "print(\"New->\",numlist)"
   ]
  },
  {
   "cell_type": "code",
   "execution_count": 9,
   "metadata": {},
   "outputs": [
    {
     "name": "stdout",
     "output_type": "stream",
     "text": [
      "Hello, saavangade running /bin/python3\n",
      "You will be asked 4 questions.\n",
      "Question: Are you ready to take a test?\n",
      "Question: The purpose of lists and dictionaries are to manage the ____ of a program\n",
      "complexity is correct!\n",
      "Question: Lists are a form of data ______\n",
      "complexity is incorrect!\n",
      "Question: Which brackets are used to assign values to a variable to make a list?\n",
      "abstraction is incorrect!\n",
      "saavangade you scored 1/4\n"
     ]
    }
   ],
   "source": [
    "import getpass, sys\n",
    "\n",
    "def question_with_response(prompt):\n",
    "    print(\"Question: \" + prompt)\n",
    "    msg = input()\n",
    "    return msg\n",
    "\n",
    "questions = 4\n",
    "correct = 0\n",
    "\n",
    "print('Hello, ' + getpass.getuser() + \" running \" + sys.executable)\n",
    "print(\"You will be asked \" + str(questions) + \" questions.\")\n",
    "question_with_response(\"Are you ready to take a test?\")\n",
    "\n",
    "rsp = question_with_response(\"The purpose of lists and dictionaries are to manage the ____ of a program\")\n",
    "if rsp == \"complexity\":\n",
    "    print(rsp + \" is correct!\")\n",
    "    correct += 1\n",
    "else:\n",
    "    print(rsp + \" is incorrect!\")\n",
    "\n",
    "rsp = question_with_response(\"Lists are a form of data ______\")\n",
    "if rsp == \"abstraction\":\n",
    "    print(rsp + \" is correct!\")\n",
    "    correct += 1\n",
    "else:\n",
    "    print(rsp + \" is incorrect!\")\n",
    "\n",
    "rsp = question_with_response(\"Which brackets are used to assign values to a variable to make a list?\")\n",
    "if rsp == \"[]\":\n",
    "    print(rsp + \" is correct!\")\n",
    "    correct += 1\n",
    "else:\n",
    "    print(rsp + \" is incorrect!\") \n",
    "\n",
    "print(getpass.getuser() + \" you scored \" + str(correct) +\"/\" + str(questions))"
   ]
  },
  {
   "attachments": {},
   "cell_type": "markdown",
   "metadata": {},
   "source": [
    "# 3.15.2 Lesson\n",
    "- Some Essential Knowledge that you need to know \n",
    "- RANDOM (a,b) will provide you with a random integer between the numbers a-b\n",
    "- Ex. RANDOM (7,18) can provide you with the number 13. \n",
    "- Using a random generotr means each result can come out as different. "
   ]
  },
  {
   "attachments": {},
   "cell_type": "markdown",
   "metadata": {},
   "source": [
    "# Lets Try an Example Scenario\n",
    "- Try and formulate a way to write a segment of code that can simulate the flipping of a coin. \n",
    "- You have to use a random generator and assign the output of \"Heads\" or \"Tails\" to a specified result. "
   ]
  },
  {
   "cell_type": "code",
   "execution_count": 2,
   "metadata": {},
   "outputs": [
    {
     "name": "stdout",
     "output_type": "stream",
     "text": [
      "Tails\n"
     ]
    }
   ],
   "source": [
    "import random \n",
    "flip = random.randint(1,2)\n",
    "\n",
    "if flip == 1:\n",
    "    print(\"Heads\")\n",
    "else:\n",
    "    print(\"Tails\") "
   ]
  },
  {
   "attachments": {},
   "cell_type": "markdown",
   "metadata": {},
   "source": [
    "- This is a pretty simple code to understand. \n",
    "- First we use the randomization here between the 1 and 2 to determine which side of the coin we get.\n",
    "- If we get 1 then we get heads. If we get 2 or anything else than 2, then we get Tails. "
   ]
  },
  {
   "attachments": {},
   "cell_type": "markdown",
   "metadata": {},
   "source": [
    "# Now lets answer some questions using your knowledge."
   ]
  },
  {
   "attachments": {},
   "cell_type": "markdown",
   "metadata": {},
   "source": [
    "- If you want yes to show up 50% of the time, which of the code segments can you use? "
   ]
  },
  {
   "cell_type": "code",
   "execution_count": null,
   "metadata": {},
   "outputs": [],
   "source": [
    "random(1,100) <= 50"
   ]
  },
  {
   "cell_type": "code",
   "execution_count": null,
   "metadata": {},
   "outputs": [],
   "source": [
    "random(1,100) == 50"
   ]
  },
  {
   "cell_type": "code",
   "execution_count": null,
   "metadata": {},
   "outputs": [],
   "source": [
    "random(1,10) <= 5"
   ]
  },
  {
   "cell_type": "code",
   "execution_count": null,
   "metadata": {},
   "outputs": [],
   "source": [
    "random(1,10) >= 5"
   ]
  },
  {
   "attachments": {},
   "cell_type": "markdown",
   "metadata": {},
   "source": [
    "- The correct answer is A,C, and D. \n",
    "- Why is not answer B? \n",
    "\n",
    "\n",
    "- This because when you are saying equal to 50, you are saying only when this one number shows up the output will be yes.\n",
    "- You want it to come up 50 percent of the time not just when that one number shows up. "
   ]
  },
  {
   "attachments": {},
   "cell_type": "markdown",
   "metadata": {},
   "source": [
    "# Hacks\n",
    "- For your hacks you need to create a random number generator that will simulate this situation: \n",
    "- There is a spinner divided into eight equal parts. 3 parts of the spinner are green, two parts are blue, one part is purple, one part is red, and one part is orange. How can you simulate this situation using a random number generator. \n",
    "\n",
    "- Also answer this question: What numbers can be outputed from RANDOM(12,20) and what numbers are excluded? "
   ]
  }
 ],
 "metadata": {
  "kernelspec": {
   "display_name": "Python 3.8.10 64-bit",
   "language": "python",
   "name": "python3"
  },
  "language_info": {
   "codemirror_mode": {
    "name": "ipython",
    "version": 3
   },
   "file_extension": ".py",
   "mimetype": "text/x-python",
   "name": "python",
   "nbconvert_exporter": "python",
   "pygments_lexer": "ipython3",
   "version": "3.8.10 (default, Jun 22 2022, 20:18:18) \n[GCC 9.4.0]"
  },
  "orig_nbformat": 4,
  "vscode": {
   "interpreter": {
    "hash": "916dbcbb3f70747c44a77c7bcd40155683ae19c65e1c03b4aa3499c5328201f1"
   }
  }
 },
 "nbformat": 4,
 "nbformat_minor": 2
}
