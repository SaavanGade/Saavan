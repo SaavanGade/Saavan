{
 "cells": [
  {
   "cell_type": "markdown",
   "metadata": {},
   "source": [
    "# Application Programming Interface (API)\n",
    "> APIs can be found all over the internet.  A great consolidator of many APIs is <mark>RapidAPI</mark>.  In this blog we will use a site to consolidates API stats.  Learning a few lines of code and you can start extracting lots of data from the internet via APIs.  \n",
    "- title: Python RapidAPI\n",
    "- toc: true\n",
    "- image: /images/rapidapi.png\n",
    "- permalink: /techtalk/rapidapi\n",
    "- categories: [1.A, 5.B, 5.D]\n",
    "- tags: [api, rapidapi]\n",
    "- type: pbl\n",
    "- week: 7"
   ]
  },
  {
   "cell_type": "code",
   "execution_count": 1,
   "metadata": {},
   "outputs": [
    {
     "name": "stdout",
     "output_type": "stream",
     "text": [
      "World Totals\n",
      "total_cases 509,268,964\n",
      "new_cases 204,268\n",
      "total_deaths 6,242,509\n",
      "new_deaths 630\n",
      "total_recovered 461,827,849\n",
      "active_cases 41,198,606\n",
      "serious_critical 42,510\n",
      "total_cases_per_1m_population 65,334\n",
      "deaths_per_1m_population 800.9\n",
      "statistic_taken_at 2022-04-24 11:18:01\n",
      "\n",
      "Country Totals\n",
      "country_name USA\n",
      "cases 82,649,779\n",
      "deaths 1,018,316\n",
      "region \n",
      "total_recovered 80,434,925\n",
      "new_deaths 0\n",
      "new_cases 0\n",
      "serious_critical 1,465\n",
      "active_cases 1,196,538\n",
      "total_cases_per_1m_population 247,080\n",
      "deaths_per_1m_population 3,044\n",
      "total_tests 1,000,275,726\n",
      "tests_per_1m_population 2,990,303\n"
     ]
    }
   ],
   "source": [
    "\"\"\"\n",
    "Requests is a HTTP library for the Python programming language. \n",
    "The goal of the project is to make HTTP requests simpler and more human-friendly. \n",
    "\"\"\"\n",
    "import requests\n",
    "\n",
    "\"\"\"\n",
    "RapidAPI is the world's largest API Marketplace. \n",
    "Developers use Rapid API to discover and connect to thousands of APIs. \n",
    "\"\"\"\n",
    "url = \"https://corona-virus-world-and-india-data.p.rapidapi.com/api\"\n",
    "headers = {\n",
    "    'x-rapidapi-key': \"dec069b877msh0d9d0827664078cp1a18fajsn2afac35ae063\",\n",
    "    'x-rapidapi-host': \"corona-virus-world-and-india-data.p.rapidapi.com\"\n",
    "}\n",
    "\n",
    "# Request Covid Data\n",
    "response = requests.request(\"GET\", url, headers=headers)\n",
    "# print(response.text)  # uncomment this line to see raw data\n",
    "\n",
    "# This code looks for \"world data\"\n",
    "print(\"World Totals\")\n",
    "world = response.json().get('world_total')  # turn response to json() so we can extract \"world_total\"\n",
    "for key, value in world.items():  # this finds key, value pairs in country\n",
    "    print(key, value)\n",
    "\n",
    "print()\n",
    "\n",
    "# This code looks for USA in \"countries_stats\"\n",
    "print(\"Country Totals\")\n",
    "countries = response.json().get('countries_stat')\n",
    "for country in countries:  # countries is a list\n",
    "    if country[\"country_name\"] == \"USA\":  # this filters for USA\n",
    "        for key, value in country.items():  # this finds key, value pairs in country\n",
    "            print(key, value)\n"
   ]
  },
  {
   "cell_type": "code",
   "execution_count": 3,
   "metadata": {},
   "outputs": [
    {
     "name": "stdout",
     "output_type": "stream",
     "text": [
      "[{'gameDate': '1/31/2022 12:00:00 AM', 'games': [{'gameId': '0022100764', 'gameCode': '20220131/GSWHOU', 'gameStatus': 3, 'gameStatusText': 'Final', 'gameSequence': 7, 'gameDateEst': '2022-01-31T00:00:00Z', 'gameTimeEst': '1900-01-01T20:00:00Z', 'gameDateTimeEst': '2022-01-31T20:00:00Z', 'gameDateUTC': '2022-01-31T05:00:00Z', 'gameTimeUTC': '1900-01-02T01:00:00Z', 'gameDateTimeUTC': '2022-02-01T01:00:00Z', 'awayTeamTime': '2022-01-31T17:00:00Z', 'homeTeamTime': '2022-01-31T19:00:00Z', 'day': 'Mon', 'monthNum': 1, 'weekNumber': 16, 'weekName': 'Week 16', 'ifNecessary': False, 'seriesGameNumber': '', 'seriesText': '', 'arenaName': 'Toyota Center', 'arenaState': 'TX', 'arenaCity': 'Houston', 'postponedStatus': 'A', 'branchLink': 'https://app.link.nba.com/ZThbyrgCXib', 'broadcasters': {'nationalTvBroadcasters': [], 'nationalRadioBroadcasters': [], 'homeTvBroadcasters': [], 'homeRadioBroadcasters': [], 'awayTvBroadcasters': [], 'awayRadioBroadcasters': [], 'intlRadioBroadcasters': [], 'intlTvBroadcasters': []}, 'homeTeam': {'teamId': 1610612745, 'teamName': 'Rockets', 'teamCity': 'Houston', 'teamTricode': 'HOU', 'teamSlug': 'rockets', 'wins': 14, 'losses': 36, 'score': 108, 'seed': 0}, 'awayTeam': {'teamId': 1610612744, 'teamName': 'Warriors', 'teamCity': 'Golden State', 'teamTricode': 'GSW', 'teamSlug': 'warriors', 'wins': 38, 'losses': 13, 'score': 122, 'seed': 0}, 'pointsLeaders': [{'personId': 201939, 'firstName': 'Stephen', 'lastName': 'Curry', 'teamId': 1610612744, 'teamCity': 'Golden State', 'teamName': 'Warriors', 'teamTricode': 'GSW', 'points': 40}]}]}]\n"
     ]
    }
   ],
   "source": [
    "# Request Digital Coin\n",
    "# RapidAPI page https://rapidapi.com/Coinranking/api/coinranking1/\n",
    "\n",
    "# Begin Rapid API Code\n",
    "import requests\n",
    "\n",
    "url = \"https://nba-schedule.p.rapidapi.com/schedule\"\n",
    "\n",
    "querystring = {\"team\":\"GSW\",\"date\":\"31-01-2022\"}\n",
    "\n",
    "headers = {\n",
    "\t\"X-RapidAPI-Key\": \"4f0f5ee0b6msh1bcb7e2bb792a18p18c6b0jsn03bc958312b3\",\n",
    "\t\"X-RapidAPI-Host\": \"nba-schedule.p.rapidapi.com\"\n",
    "}\n",
    "\n",
    "response = requests.request(\"GET\", url, headers=headers, params=querystring)\n",
    "\n",
    "print(response.json())\n",
    "# End Rapid API Code\n",
    "json = response.json()  # convert response to python json object\n",
    "\n",
    "# Observe data from an API.  This is how data transports over the internet in a \"JSON\" text form\n",
    "# - The JSON \"text\" is formed in dictionary {} and list [] divisions\n",
    "# - To read the result, Data Scientist of  Developer converts JSON into human readable form\n",
    "# - Review the first line, look for the keys --  \"status\" and \"data\""
   ]
  }
 ],
 "metadata": {
  "kernelspec": {
   "display_name": "Python 3.8.10 64-bit",
   "language": "python",
   "name": "python3"
  },
  "language_info": {
   "codemirror_mode": {
    "name": "ipython",
    "version": 3
   },
   "file_extension": ".py",
   "mimetype": "text/x-python",
   "name": "python",
   "nbconvert_exporter": "python",
   "pygments_lexer": "ipython3",
   "version": "3.8.10"
  },
  "orig_nbformat": 4,
  "vscode": {
   "interpreter": {
    "hash": "916dbcbb3f70747c44a77c7bcd40155683ae19c65e1c03b4aa3499c5328201f1"
   }
  }
 },
 "nbformat": 4,
 "nbformat_minor": 2
}
