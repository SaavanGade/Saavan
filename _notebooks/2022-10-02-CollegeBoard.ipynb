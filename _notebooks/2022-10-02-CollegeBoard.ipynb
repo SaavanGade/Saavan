{
 "cells": [
  {
   "cell_type": "markdown",
   "metadata": {},
   "source": [
    "# Daily Video Notes and College Board Quiz"
   ]
  },
  {
   "cell_type": "markdown",
   "metadata": {},
   "source": [
    "# Daily Video 1\n",
    "- Use a development process to develop a program\n",
    "- Design a program and its user interface\n",
    "- A development process can be ordered and intentional or exploratory in nature\n",
    "- Common phases when developing a program: investigating and reflecting, designing, prototyping, testing\n",
    "- Requires refinement and revision based on feedback, testing, and reflection: may require revisiting phases\n",
    "- Break the project into smaller pieces and make sure each piece works before adding it to the whole. Investigate to determine requirements, constraints, concerns and interests of customer\n",
    "- Investigate by: collecting data through surveys, user testing, interviews, direct observations\n",
    "\n",
    "# Daily Video 2 \n",
    "- When developing a program, it is important to cite and acknowledge code segments used from either another source or developed collaboratively\n",
    "- When acknowledging someone else, include the origin of code or authors name in the program documentation\n",
    "- Team of people usually work on a program by each focusing on different functional components\n",
    "- Each member’s work should be credited in program documentation\n",
    "- Sometimes credit is given with comments in the code\n",
    "- Many developers use code segments, procedures, algorithms made by others who aren’t part of the project so it is important to credit them \n",
    "\n",
    "# Daily Video 3 \n",
    "- Describe the purpose of a code segment or program by writing documentation\n",
    "- Program documentation: a written description of the function of a code segment, event, procedure, or program and how it was developed EX: comments (don’t effect how the program runs)\n",
    "- Should actively document throughout development to help development as well as maintaining correct programs\n",
    "- Program documentation created to: describe the program, list specifications, describe different parts of the program, list of contributors\n",
    "- Document process: beginning: list specifications, during: keep track of progress, after: explain overall process\n",
    "- Documentation improves: programming process efficiency, ability to test and refine program, responding to bugs"
   ]
  },
  {
   "cell_type": "markdown",
   "metadata": {},
   "source": [
    "# Proof of Quiz"
   ]
  },
  {
   "cell_type": "markdown",
   "metadata": {},
   "source": [
    "<img src=\"images/CBQUIZ.jpg\">"
   ]
  }
 ],
 "metadata": {
  "kernelspec": {
   "display_name": "Python 3.8.10 64-bit",
   "language": "python",
   "name": "python3"
  },
  "language_info": {
   "codemirror_mode": {
    "name": "ipython",
    "version": 3
   },
   "file_extension": ".py",
   "mimetype": "text/x-python",
   "name": "python",
   "nbconvert_exporter": "python",
   "pygments_lexer": "ipython3",
   "version": "3.8.10"
  },
  "orig_nbformat": 4,
  "vscode": {
   "interpreter": {
    "hash": "916dbcbb3f70747c44a77c7bcd40155683ae19c65e1c03b4aa3499c5328201f1"
   }
  }
 },
 "nbformat": 4,
 "nbformat_minor": 2
}
