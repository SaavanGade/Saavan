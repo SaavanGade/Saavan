{
 "cells": [
  {
   "attachments": {},
   "cell_type": "markdown",
   "metadata": {},
   "source": [
    "# CPT Writeup"
   ]
  },
  {
   "attachments": {},
   "cell_type": "markdown",
   "metadata": {},
   "source": [
    "# Ideas\n",
    "- A social media type app where you can get live alerts on your device. It will allow for messenging between users and give them the ability to do things they didnt know they could do. \n",
    "- We would have to make it so that the messages upload rapidly kind of like a running server where the commits happen instantly. It will take certain coding aspects to make this happen. \n",
    "- Language larning app: Design a mobile app that helps user learn a new language by providing vocabulary lists, quizzes, and games. The app can use text-to-speech and speech-to-text features to aid pronunciation and conversation practice.\n",
    "- We vcould create a sports app that shows live updates about scores or player stats maybe. We could make it so that there feed changes as the game goes on so that people have live views of certain statistics. \n",
    "- Movie App: Create something where people could stream movies or tv shows by going through a large slection of things. \n",
    "\n",
    "\n",
    "# Process\n",
    "- We have just started formulating ideas and I believe we have locked onto the social media idea. It requires a live server that can show messages instantly. \n",
    "- We have projects from the two trimester that can do similar things. My last project had features that could be useful for ideas like the one we have now.\n",
    "- We incorporated things like live google maps which could be good when we want to create a social media app. "
   ]
  }
 ],
 "metadata": {
  "language_info": {
   "name": "python"
  },
  "orig_nbformat": 4
 },
 "nbformat": 4,
 "nbformat_minor": 2
}
