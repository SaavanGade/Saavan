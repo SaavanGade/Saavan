{
 "cells": [
  {
   "cell_type": "markdown",
   "metadata": {},
   "source": [
    "# Lesson Plans\n",
    "> Hacks for class\n",
    "\n",
    "- toc: true \n",
    "- badges: true\n",
    "- comments: true\n",
    "- categories: [slatt]\n",
    "- permalink: /hackzzzzz\n",
    "- image: images/chart-preview.png"
   ]
  },
  {
   "cell_type": "markdown",
   "metadata": {},
   "source": [
    "# 3.1-3.2 Blog\n",
    "# Essential Knowledge\n",
    "- A variable is an abstraction inside a program that holds a value, where each variable has associated data storage that represents a single value at a time (However, if the value is a collection type such as a list, then the value can contain multiple values).\n",
    "- Variables typically have meaningful names that helps with the overall organization of the code\n",
    "- Some programming languages provide a variety of methods to represent data, which are referenced using variables 9Booleans, numbers, lists, and strings) One form of a value is better suited for representation than another.\n",
    "# What is a Variable?\n",
    "- A variable is an abstraction made inside a program that holds a value. These variables are used in code to refer to more comples values that the variable contains and makes the program code more organized and smoother to run.\n",
    "# Data Types\n",
    "- Variables have data types that store specific kinds of data depending on what is being represented. Some examples are shown below:\n",
    "- integer (numbers)\n",
    "- string (or text/letters)\n",
    "- Boolean (True/False statements) \n",
    "# Data Abstraction \n",
    "- Data abstraction can be created with lists.\n",
    "- Lists bundle together multiple elements and/or variables under one name are not defined with specified lengths.\n",
    "- The variables that are stored in a list do not have to be limited to one kind of variable. \n",
    "- You can also simplify code segments to better output function and make the process as a whole earlier. \n"
   ]
  }
 ],
 "metadata": {
  "kernelspec": {
   "display_name": "Python 3.8.10 64-bit",
   "language": "python",
   "name": "python3"
  },
  "language_info": {
   "name": "python",
   "version": "3.8.10"
  },
  "orig_nbformat": 4,
  "vscode": {
   "interpreter": {
    "hash": "916dbcbb3f70747c44a77c7bcd40155683ae19c65e1c03b4aa3499c5328201f1"
   }
  }
 },
 "nbformat": 4,
 "nbformat_minor": 2
}
