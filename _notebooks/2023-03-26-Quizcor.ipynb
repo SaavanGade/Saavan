{
 "cells": [
  {
   "attachments": {},
   "cell_type": "markdown",
   "metadata": {},
   "source": [
    "# Quiz Corrections"
   ]
  },
  {
   "attachments": {},
   "cell_type": "markdown",
   "metadata": {},
   "source": [
    "# Corrections\n",
    "| Question Number | What I got Wrong/Improvement |\n",
    "| - | - |\n",
    "| 7 | I answered A when the correct answer was C. I was a little confused with what changes needed to be made to the algorithim. I will read the question more properly next time.|\n",
    "| 14 | I answered D when the correct answer was A. I had some trouble reading this diagram and could not correlate which one matched the questions that it was asking. I will improve on diagram reading.  |\n",
    "| 15 | I answered D when the correct answer was A. This was a question about grids and I did not truly understand how to decipher how to make the better grids. It was hard for me and I will better understand this next time. |\n",
    "| 17 | THis one I just answered A when I was supposed to select two answers. I just read the question a little wrong. |\n",
    "| 24 | I answered A when the correct answer was D. This was another diagram question and it is something that I need to work on. |"
   ]
  },
  {
   "attachments": {},
   "cell_type": "markdown",
   "metadata": {},
   "source": [
    "# Reflection\n",
    " As a student taking an AP Computer Science quiz, I have experienced common technical mistakes such as forgetting to include necessary syntax in my code. This can include missing semicolons, parentheses, or brackets, which can cause the code to fail to compile. I have also made mistakes such as using incorrect variable types or not declaring variables correctly, which can cause unexpected errors when running the program.\n",
    "\n",
    "In addition to technical mistakes, I have also made logical errors in my code. This can include using the wrong operator or conditional statement, which can result in incorrect output or unexpected behavior. To avoid these types of mistakes, I have learned to carefully review my code and understand the logic behind it.\n",
    "\n",
    "Fortunately, there are several helpful tools available for identifying and correcting technical mistakes in code. Debugging tools, such as breakpoints and variable watches, can be found in Integrated Development Environments (IDEs) and can help students to identify and fix technical mistakes in their code. By utilizing these tools and taking a careful approach to coding, I can continue to improve my programming skills and avoid technical mistakes in the future."
   ]
  }
 ],
 "metadata": {
  "language_info": {
   "name": "python"
  },
  "orig_nbformat": 4
 },
 "nbformat": 4,
 "nbformat_minor": 2
}
