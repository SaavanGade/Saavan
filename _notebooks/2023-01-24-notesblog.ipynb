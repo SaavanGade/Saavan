{
 "cells": [
  {
   "attachments": {},
   "cell_type": "markdown",
   "metadata": {},
   "source": [
    "# Project Questions\n",
    "# Think of three beneficial effects of creating a period tracker\n",
    "- Improved fertility awareness: A period tracker can help a person understand their menstrual cycle and predict when they are most likely to conceive.\n",
    "\n",
    "- Better symptom management: Keeping track of menstrual symptoms such as cramps, headaches, and mood changes can help individuals plan and prepare for them, and also help them identify patterns or potential issues that may need to be addressed by a healthcare provider.\n",
    "\n",
    "- Increased control over contraception: A period tracker can help individuals better plan and use contraception, such as by identifying when they are most likely to be fertile and when they can safely have unprotected sex.\n",
    "\n",
    "# A potenial harm of creating a period tracker\n",
    "- One potential harmful effect of creating a period tracker is that it may contribute to increased stress and anxiety. For some individuals, constantly monitoring their menstrual cycle and symptoms may cause them to fixate on their reproductive health and potentially feel more self-conscious or worried about their menstrual cycle. Additionally, if the period tracker is not accurate or if the individual is not using it correctly, it can lead to confusion or false assumptions about their menstrual cycle which can cause unnecessary stress.\n",
    "\n",
    "# Some benefits/cons for internet blockers\n",
    "- Pros:\n",
    "Increased Productivity: By blocking distracting websites and apps, internet blockers can increase productivity.\n",
    "Improved Focus: By reducing the temptation to check social media or engage in other distracting activities, internet blockers can help people stay focused on the task at hand.\n",
    "Parental Controls: Internet blockers can be used to restrict access to inappropriate websites for minors and children.\n",
    "Cybersecurity: Internet blockers can be used to prevent access to malicious websites and protect against online threats.\n",
    "\n",
    "- Cons:\n",
    "Loss of Freedom: Internet blockers limit access to information and restrict freedom of speech.\n",
    "Reduced Access to Information: By blocking certain websites, internet blockers can reduce access to important information.\n",
    "Decreased Innovation: By limiting access to information, internet blockers can reduce opportunities for innovation.\n",
    "Technical Difficulties: Implementing internet blockers can be difficult and may require significant technical expertise.\n",
    "\n",
    "# My thoughts on Digital Divide\n",
    "- One concern I have is access to infromation. The digital divide creates a gap between those who have access to technology and the internet and those who do not, leading to unequal access to information and opportunities.\n",
    "- Another concern is economic inequality. The digital divide exacerbates economic inequality, as those who have access to technology and the internet are more likely to be able to take advantage of job and business opportunities.\n",
    "- One last issue I have is social Isolation. The digital divide can lead to social isolation for those who do not have access to technology and the internet, further exacerbating economic and social inequalities."
   ]
  }
 ],
 "metadata": {
  "language_info": {
   "name": "python"
  },
  "orig_nbformat": 4
 },
 "nbformat": 4,
 "nbformat_minor": 2
}
