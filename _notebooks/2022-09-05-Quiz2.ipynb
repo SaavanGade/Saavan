{
 "cells": [
  {
   "cell_type": "code",
   "execution_count": 1,
   "metadata": {},
   "outputs": [
    {
     "name": "stdout",
     "output_type": "stream",
     "text": [
      " how many can you get right?\n",
      "Which major player requested a trade in the 2022 NBA offseason but never actually got traded?\n",
      "a. Jayson Tatum\n",
      "b. James Harden\n",
      "c. Kevin Durant\n",
      "d. Lebron James\n",
      "correct!\n",
      "Which team won the west in the year 2021?\n",
      "a. Phoneix Suns\n",
      "b. Milwuake Bucks\n",
      "c. LA Lakers\n",
      "d. Brooklyn Nets\n",
      "correct!\n",
      "Who was the back to back mvp in the years of 2021 and 2022?\n",
      "a. Giannis Antetokounmpo\n",
      "b. Nikola Jokic\n",
      "c. Lebron James\n",
      "d. Kevin Durant\n",
      "correct!\n",
      "Which NBA player led the league in scoring in the year 2022?\n",
      "a. Nikola Jokic\n",
      "b. James Harden\n",
      "c. Bradley Beal\n",
      "d. Joel Embiid\n",
      "sorry, that was incorrect.\n",
      "What big time player got traded to the sixers in the middle of the 2022 season?\n",
      "a. Tobias Harris\n",
      "b. Joel Embiid\n",
      "c. Kevin Durant\n",
      "d. James Harden\n",
      "correct!\n",
      "Your final score is  4\n"
     ]
    }
   ],
   "source": [
    "q1 = \"\"\"Which major player requested a trade in the 2022 NBA offseason but never actually got traded?\n",
    "a. Jayson Tatum\n",
    "b. James Harden\n",
    "c. Kevin Durant\n",
    "d. Lebron James\"\"\"\n",
    "\n",
    "q2 = \"\"\"Which team won the west in the year 2021?\n",
    "a. Phoneix Suns\n",
    "b. Milwuake Bucks\n",
    "c. LA Lakers\n",
    "d. Brooklyn Nets\"\"\"\n",
    "\n",
    "q3 = \"\"\"Who was the back to back mvp in the years of 2021 and 2022?\n",
    "a. Giannis Antetokounmpo\n",
    "b. Nikola Jokic\n",
    "c. Lebron James\n",
    "d. Kevin Durant\"\"\"\n",
    "\n",
    "q4 = \"\"\"Which NBA player led the league in scoring in the year 2022?\n",
    "a. Nikola Jokic\n",
    "b. James Harden\n",
    "c. Bradley Beal\n",
    "d. Joel Embiid\"\"\"\n",
    "\n",
    "q5 = \"\"\"What big time player got traded to the sixers in the middle of the 2022 season?\n",
    "a. Tobias Harris\n",
    "b. Joel Embiid\n",
    "c. Kevin Durant\n",
    "d. James Harden\"\"\"\n",
    "\n",
    "\n",
    "\n",
    "questions = {q1: \"c\", q2: \"a\", q3: \"b\", q4: \"d\", q5: \"d\",}\n",
    "\n",
    "name = input(\"Enter your name: \")\n",
    "print(name, \"how many can you get right?\")\n",
    "score = 0\n",
    "for i in questions:\n",
    "    print(i)\n",
    "    ans = input(\"Choose the answer which you think is right.\")\n",
    "    if ans == questions[i]:\n",
    "        print(\"correct!\")\n",
    "        score = score+1\n",
    "    else:\n",
    "        print(\"sorry, that was incorrect.\")\n",
    "\n",
    "print(\"Your final score is \",score)\n"
   ]
  },
  {
   "cell_type": "markdown",
   "metadata": {},
   "source": [
    "# NBA Quiz 2 \n",
    "- See how many you can get right!"
   ]
  },
  {
   "cell_type": "markdown",
   "metadata": {},
   "source": [
    "# \"Notebook Check\" \n",
    "\n",
    "- toc:true\n",
    "- branch: master \n",
    "- badges: true\n",
    "- comments: true\n",
    "- author: Saavan Gade\n",
    "- categories: [CSP Assignments, Week 3]"
   ]
  }
 ],
 "metadata": {
  "kernelspec": {
   "display_name": "Python 3.8.10 64-bit",
   "language": "python",
   "name": "python3"
  },
  "language_info": {
   "codemirror_mode": {
    "name": "ipython",
    "version": 3
   },
   "file_extension": ".py",
   "mimetype": "text/x-python",
   "name": "python",
   "nbconvert_exporter": "python",
   "pygments_lexer": "ipython3",
   "version": "3.8.10"
  },
  "orig_nbformat": 4,
  "vscode": {
   "interpreter": {
    "hash": "916dbcbb3f70747c44a77c7bcd40155683ae19c65e1c03b4aa3499c5328201f1"
   }
  }
 },
 "nbformat": 4,
 "nbformat_minor": 2
}
