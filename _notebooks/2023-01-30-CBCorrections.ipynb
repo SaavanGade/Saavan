{
 "cells": [
  {
   "attachments": {},
   "cell_type": "markdown",
   "metadata": {},
   "source": [
    "# College Board Quiz Corrections"
   ]
  },
  {
   "attachments": {},
   "cell_type": "markdown",
   "metadata": {},
   "source": [
    "# Corrections\n",
    "| Question Number | What I got Wrong/Improvement |\n",
    "| - | - |\n",
    "| 7 | I answered A when the correct answer was C. I was a little confused with what changes needed to be made to the algorithim. I will read the question more properly next time.|\n",
    "| 14 | I answered D when the correct answer was A. I had some trouble reading this diagram and could not correlate which one matched the questions that it was asking. I will improve on diagram reading.  |\n",
    "| 15 | I answered D when the correct answer was A. This was a question about grids and I did not truly understand how to decipher how to make the better grids. It was hard for me and I will better understand this next time. |\n",
    "| 17 | THis one I just answered A when I was supposed to select two answers. I just read the question a little wrong. |\n",
    "| 27 | I answered A when the correct answer was D. This was another diagram question and it is something that I need to work on. |\n",
    "| 28 | THis one I just answered C when I was supposed to select two answers. I just read the question a little wrong. |\n",
    "| 30 | This one I answered A when the corret answers were B and C. I could not understand what program was fit to draw exactly that shape. I need to better understand different logistics that help draw figures like that. |\n",
    "| 43 | I answered A when the correct asnwer was C. For this one I just got confused for the purpose and differences for computer cimulation logistics. I need to do better when it comes to understanding the purposes of computer simulations. |\n",
    "| 44 | I answered A when the correct answer was D. In this problem I just misread the question and did not completely understand the banks function. I have to do better when it comes to understanding the problme better. |\n",
    "| 47 | I answered A when the correct answer was C. In this problem I misunderstood what a heuristic was. I need to do better when it comes to what a heuristic is and what its application is.|\n",
    "| 48 | I anseweed C when the answer was D. I could not properly read the ines of code. I was not able to understand the functions of each line and so I could not figure out which code to interchange. I need to get better at readings lines of code. |\n",
    "| 49 |  I answered B when the correct answer was D. This was a question about computers and I did not think about it properly. It was hard for me and I will better understand this next time. |\n",
    "\n"
   ]
  }
 ],
 "metadata": {
  "kernelspec": {
   "display_name": "Python 3.9.12 ('base')",
   "language": "python",
   "name": "python3"
  },
  "language_info": {
   "name": "python",
   "version": "3.9.12"
  },
  "orig_nbformat": 4,
  "vscode": {
   "interpreter": {
    "hash": "b39cc0b7d7b7baa8a40a102196f269dabc963c0136c1c82ab9b0b53a6e35bbf2"
   }
  }
 },
 "nbformat": 4,
 "nbformat_minor": 2
}
