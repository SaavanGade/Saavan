{
 "cells": [
  {
   "attachments": {},
   "cell_type": "markdown",
   "metadata": {},
   "source": [
    "# Unit 3 Sections 14 and 15\n",
    "> During this lesson sections 8 and 10 will discuss lists and iteration\n",
    " \n",
    "- title: Unit 3 Sections 14 and 15\n",
    "- toc: true\n",
    "- categories: [ap csp, unit 3, section 14, section 15, lesson]\n"
   ]
  },
  {
   "attachments": {},
   "cell_type": "markdown",
   "metadata": {},
   "source": [
    "### Section 3.14.1 - Libraries (Ethan Tran)"
   ]
  },
  {
   "cell_type": "markdown",
   "metadata": {},
   "source": [
    "**Learning Objective**\n",
    " \n",
    "To be able to select appropriate libraries and/or existing code to use in the creation of new programs.\n"
   ]
  },
  {
   "attachments": {},
   "cell_type": "markdown",
   "metadata": {},
   "source": [
    "**College Board Essential Knowledge**\n",
    " \n",
    "- A software library contains procedures that can be used in the creation of new programs.\n",
    "- Existing segments of code can come from internal or external sources, ie. libraries or previously written code.\n",
    "- The use of libraries simplifies the task of creating complex programs.\n",
    "- Application program interfaces (APIs) are specifications for how the procedures in a library behave and can be used.\n",
    "- Documentation for a library or API is necessary in understanding the key behaviors provided by the API/library and how to utilize them in your work."
   ]
  },
  {
   "attachments": {},
   "cell_type": "markdown",
   "metadata": {},
   "source": [
    "**Defining a Library**\n",
    "\n",
    "- A library is a collection of code from an external source that can be used to add functionality to a program.\n",
    "- Libraries are very useful, as they can be used to save time and effort in the development process.\n",
    "- Libraries are usually included in a program using a special keyword called “import”. This keyword tells the program to look for the library and use its code. \n",
    "\n",
    "### Example"
   ]
  },
  {
   "cell_type": "code",
   "execution_count": 16,
   "metadata": {},
   "outputs": [
    {
     "ename": "NameError",
     "evalue": "name 'BeautifulSoup' is not defined",
     "output_type": "error",
     "traceback": [
      "\u001b[1;31m---------------------------------------------------------------------------\u001b[0m",
      "\u001b[1;31mNameError\u001b[0m                                 Traceback (most recent call last)",
      "\u001b[1;32mc:\\Users\\etran\\.vscode\\Saavan\\_notebooks\\2022-12-11-Unit-3-Sections-14-15-lesson.ipynb Cell 6\u001b[0m in \u001b[0;36m<cell line: 224>\u001b[1;34m()\u001b[0m\n\u001b[0;32m    <a href='vscode-notebook-cell:/c%3A/Users/etran/.vscode/Saavan/_notebooks/2022-12-11-Unit-3-Sections-14-15-lesson.ipynb#X56sZmlsZQ%3D%3D?line=223'>224</a>\u001b[0m \u001b[39mif\u001b[39;00m \u001b[39m__name__\u001b[39m \u001b[39m==\u001b[39m \u001b[39m'\u001b[39m\u001b[39m__main__\u001b[39m\u001b[39m'\u001b[39m:\n\u001b[0;32m    <a href='vscode-notebook-cell:/c%3A/Users/etran/.vscode/Saavan/_notebooks/2022-12-11-Unit-3-Sections-14-15-lesson.ipynb#X56sZmlsZQ%3D%3D?line=224'>225</a>\u001b[0m     \u001b[39m# Scrape and save team stats to csv\u001b[39;00m\n\u001b[0;32m    <a href='vscode-notebook-cell:/c%3A/Users/etran/.vscode/Saavan/_notebooks/2022-12-11-Unit-3-Sections-14-15-lesson.ipynb#X56sZmlsZQ%3D%3D?line=225'>226</a>\u001b[0m     \u001b[39mfor\u001b[39;00m year \u001b[39min\u001b[39;00m \u001b[39mrange\u001b[39m(\u001b[39m1974\u001b[39m, \u001b[39m2018\u001b[39m):\n\u001b[1;32m--> <a href='vscode-notebook-cell:/c%3A/Users/etran/.vscode/Saavan/_notebooks/2022-12-11-Unit-3-Sections-14-15-lesson.ipynb#X56sZmlsZQ%3D%3D?line=226'>227</a>\u001b[0m         team_stats_df \u001b[39m=\u001b[39m scrape_team_stats(year)\n\u001b[0;32m    <a href='vscode-notebook-cell:/c%3A/Users/etran/.vscode/Saavan/_notebooks/2022-12-11-Unit-3-Sections-14-15-lesson.ipynb#X56sZmlsZQ%3D%3D?line=227'>228</a>\u001b[0m         team_stats_df\u001b[39m.\u001b[39mto_csv(\u001b[39m'\u001b[39m\u001b[39m../data/team_stats/team_stats_\u001b[39m\u001b[39m{}\u001b[39;00m\u001b[39m.csv\u001b[39m\u001b[39m'\u001b[39m\u001b[39m.\u001b[39mformat(year))\n\u001b[0;32m    <a href='vscode-notebook-cell:/c%3A/Users/etran/.vscode/Saavan/_notebooks/2022-12-11-Unit-3-Sections-14-15-lesson.ipynb#X56sZmlsZQ%3D%3D?line=228'>229</a>\u001b[0m         \u001b[39mprint\u001b[39m(\u001b[39m'\u001b[39m\u001b[39mTeam stats for \u001b[39m\u001b[39m{}\u001b[39;00m\u001b[39m saved\u001b[39m\u001b[39m'\u001b[39m\u001b[39m.\u001b[39mformat(year))\n",
      "\u001b[1;32mc:\\Users\\etran\\.vscode\\Saavan\\_notebooks\\2022-12-11-Unit-3-Sections-14-15-lesson.ipynb Cell 6\u001b[0m in \u001b[0;36mscrape_team_stats\u001b[1;34m(year)\u001b[0m\n\u001b[0;32m    <a href='vscode-notebook-cell:/c%3A/Users/etran/.vscode/Saavan/_notebooks/2022-12-11-Unit-3-Sections-14-15-lesson.ipynb#X56sZmlsZQ%3D%3D?line=176'>177</a>\u001b[0m \u001b[39m# Get initial Beautiful Soup object\u001b[39;00m\n\u001b[0;32m    <a href='vscode-notebook-cell:/c%3A/Users/etran/.vscode/Saavan/_notebooks/2022-12-11-Unit-3-Sections-14-15-lesson.ipynb#X56sZmlsZQ%3D%3D?line=177'>178</a>\u001b[0m url \u001b[39m=\u001b[39m \u001b[39m'\u001b[39m\u001b[39mhttps://www.basketball-reference.com/leagues/NBA_\u001b[39m\u001b[39m{}\u001b[39;00m\u001b[39m_per_game.html\u001b[39m\u001b[39m'\u001b[39m\u001b[39m.\u001b[39mformat(year)\n\u001b[1;32m--> <a href='vscode-notebook-cell:/c%3A/Users/etran/.vscode/Saavan/_notebooks/2022-12-11-Unit-3-Sections-14-15-lesson.ipynb#X56sZmlsZQ%3D%3D?line=178'>179</a>\u001b[0m soup \u001b[39m=\u001b[39m get_soup(url)\n\u001b[0;32m    <a href='vscode-notebook-cell:/c%3A/Users/etran/.vscode/Saavan/_notebooks/2022-12-11-Unit-3-Sections-14-15-lesson.ipynb#X56sZmlsZQ%3D%3D?line=179'>180</a>\u001b[0m \u001b[39m# Get team abbreviations\u001b[39;00m\n\u001b[0;32m    <a href='vscode-notebook-cell:/c%3A/Users/etran/.vscode/Saavan/_notebooks/2022-12-11-Unit-3-Sections-14-15-lesson.ipynb#X56sZmlsZQ%3D%3D?line=180'>181</a>\u001b[0m team_abbs \u001b[39m=\u001b[39m [team[\u001b[39m'\u001b[39m\u001b[39mhref\u001b[39m\u001b[39m'\u001b[39m]\u001b[39m.\u001b[39mreplace(\u001b[39m'\u001b[39m\u001b[39m/teams/\u001b[39m\u001b[39m'\u001b[39m, \u001b[39m'\u001b[39m\u001b[39m'\u001b[39m)[:\u001b[39m3\u001b[39m] \u001b[39mfor\u001b[39;00m team \u001b[39min\u001b[39;00m soup\u001b[39m.\u001b[39mselect(\u001b[39m'\u001b[39m\u001b[39m#teams_active a\u001b[39m\u001b[39m'\u001b[39m)]\n",
      "\u001b[1;32mc:\\Users\\etran\\.vscode\\Saavan\\_notebooks\\2022-12-11-Unit-3-Sections-14-15-lesson.ipynb Cell 6\u001b[0m in \u001b[0;36mget_soup\u001b[1;34m(url)\u001b[0m\n\u001b[0;32m     <a href='vscode-notebook-cell:/c%3A/Users/etran/.vscode/Saavan/_notebooks/2022-12-11-Unit-3-Sections-14-15-lesson.ipynb#X56sZmlsZQ%3D%3D?line=12'>13</a>\u001b[0m \u001b[39m'''\u001b[39;00m\n\u001b[0;32m     <a href='vscode-notebook-cell:/c%3A/Users/etran/.vscode/Saavan/_notebooks/2022-12-11-Unit-3-Sections-14-15-lesson.ipynb#X56sZmlsZQ%3D%3D?line=13'>14</a>\u001b[0m \u001b[39mTakes a url and returns the Beautiful Soup object\u001b[39;00m\n\u001b[0;32m     <a href='vscode-notebook-cell:/c%3A/Users/etran/.vscode/Saavan/_notebooks/2022-12-11-Unit-3-Sections-14-15-lesson.ipynb#X56sZmlsZQ%3D%3D?line=14'>15</a>\u001b[0m \u001b[39m'''\u001b[39;00m\n\u001b[0;32m     <a href='vscode-notebook-cell:/c%3A/Users/etran/.vscode/Saavan/_notebooks/2022-12-11-Unit-3-Sections-14-15-lesson.ipynb#X56sZmlsZQ%3D%3D?line=15'>16</a>\u001b[0m r \u001b[39m=\u001b[39m requests\u001b[39m.\u001b[39mget(url)\n\u001b[1;32m---> <a href='vscode-notebook-cell:/c%3A/Users/etran/.vscode/Saavan/_notebooks/2022-12-11-Unit-3-Sections-14-15-lesson.ipynb#X56sZmlsZQ%3D%3D?line=16'>17</a>\u001b[0m soup \u001b[39m=\u001b[39m BeautifulSoup(r\u001b[39m.\u001b[39mcontent, \u001b[39m\"\u001b[39m\u001b[39mhtml.parser\u001b[39m\u001b[39m\"\u001b[39m)\n\u001b[0;32m     <a href='vscode-notebook-cell:/c%3A/Users/etran/.vscode/Saavan/_notebooks/2022-12-11-Unit-3-Sections-14-15-lesson.ipynb#X56sZmlsZQ%3D%3D?line=17'>18</a>\u001b[0m \u001b[39mreturn\u001b[39;00m soup\n",
      "\u001b[1;31mNameError\u001b[0m: name 'BeautifulSoup' is not defined"
     ]
    }
   ],
   "source": []
  },
  {
   "cell_type": "markdown",
   "metadata": {},
   "source": [
    "<hr>"
   ]
  },
  {
   "cell_type": "markdown",
   "metadata": {},
   "source": [
    "## Lesson 3.15.1\n",
    "##### What is randomization?\n",
    "1) Randomization generates a value between two numbers. For example RANDOM(1,3) may result as 1 or 2 or 3, either one of those.\n",
    "\n",
    "2) Now if we look into our day to day life we can see that randomization is all around us. \n",
    "\n",
    "****Now for a piece of candy does anyone want to tell us an example of randomization during our day to day life. ****\n",
    "\n",
    "\n",
    "3) In order to use the random function we have to first import random at the very beggining.\n",
    "\n",
    "Now lets look at the code below right here."
   ]
  },
  {
   "cell_type": "code",
   "execution_count": null,
   "metadata": {},
   "outputs": [
    {
     "name": "stdout",
     "output_type": "stream",
     "text": [
      "8\n"
     ]
    }
   ],
   "source": [
    "import random\n",
    "\n",
    "answer1 = random.randint(0,3)\n",
    "answer2 = random.randint(1,8)\n",
    "answer3 = answer1 + answer2\n",
    "print(answer3)"
   ]
  },
  {
   "cell_type": "markdown",
   "metadata": {},
   "source": [
    "1) The lowest number that will be generated is 0 for answer 1 and for answer2, the lowest that will be generated is 1 so the lowest number that can be generated for answer 3 would be 1. \n",
    "\n",
    "2) The highest number that will be generated to answer1 is 3 and the highest number that will be generated for answer 2 is 8 so the highest number for answer 3 would be 11. \n",
    "\n",
    "3) The range of numbers that answer 3 could print out would be from 1 to 11.\n",
    "\n"
   ]
  },
  {
   "cell_type": "markdown",
   "metadata": {},
   "source": [
    "\n",
    "\n",
    "##### So a normal dice contains six sides with 1-6 on the individual sides. Which of the following code would simulate the result of rolling the dice three times and adds together all the obtained values together?"
   ]
  },
  {
   "cell_type": "markdown",
   "metadata": {},
   "source": [
    "##### A."
   ]
  },
  {
   "cell_type": "code",
   "execution_count": null,
   "metadata": {},
   "outputs": [
    {
     "name": "stdout",
     "output_type": "stream",
     "text": [
      "12\n"
     ]
    }
   ],
   "source": [
    "import random\n",
    "sum = random.randint(1,6) + random.randint(1,6) + random.randint(1,6)\n",
    "print(sum)"
   ]
  },
  {
   "cell_type": "markdown",
   "metadata": {},
   "source": [
    "##### B."
   ]
  },
  {
   "cell_type": "code",
   "execution_count": null,
   "metadata": {},
   "outputs": [
    {
     "name": "stdout",
     "output_type": "stream",
     "text": [
      "17\n"
     ]
    }
   ],
   "source": [
    "import random \n",
    "sum = random.randint(1,18)\n",
    "print(sum)"
   ]
  },
  {
   "cell_type": "markdown",
   "metadata": {},
   "source": [
    "##### C."
   ]
  },
  {
   "cell_type": "code",
   "execution_count": null,
   "metadata": {},
   "outputs": [
    {
     "name": "stdout",
     "output_type": "stream",
     "text": [
      "12\n"
     ]
    }
   ],
   "source": [
    "import random\n",
    "sum = 3*random.randint(1,6)\n",
    "print(sum)"
   ]
  },
  {
   "cell_type": "markdown",
   "metadata": {},
   "source": [
    "1) Its not B because B is saying that it is going to choose one number between the range of 1 and 18 and not the sum of 3 diff numbers. \n",
    "\n",
    "2) C is not correct also because C is saying that the computer is choosing one random between 1 and 6 and multiplying that 3 times but we want the sum of three different numbers between 1 and 6.\n",
    "\n",
    "3) So the answer is A. "
   ]
  },
  {
   "cell_type": "markdown",
   "metadata": {},
   "source": [
    "For the last example:"
   ]
  },
  {
   "cell_type": "code",
   "execution_count": null,
   "metadata": {},
   "outputs": [
    {
     "name": "stdout",
     "output_type": "stream",
     "text": [
      "6\n",
      "9\n",
      "8\n"
     ]
    }
   ],
   "source": [
    "import random\n",
    "i = 1\n",
    "while i < 4:\n",
    "    choose = random.randint(1,10)\n",
    "    print(choose)\n",
    "    i += 1\n"
   ]
  },
  {
   "cell_type": "markdown",
   "metadata": {},
   "source": [
    "Which answers could not be possible for the code above?\n",
    "\n",
    "A. 4 7 6\n",
    "\n",
    "B. 9 1 8\n",
    "\n",
    "C. 2 11 5\n",
    "\n",
    "D. 5 10 2"
   ]
  },
  {
   "cell_type": "markdown",
   "metadata": {},
   "source": [
    "\n",
    " "
   ]
  },
  {
   "cell_type": "markdown",
   "metadata": {},
   "source": [
    "##### Random can also have different methods, in the above examples we only used one example, randint which returns a random number between the given range. Down below I have created a table of all the methods with the description of what it is used for with the random function."
   ]
  },
  {
   "cell_type": "markdown",
   "metadata": {},
   "source": [
    "Method\t          |  Description\n",
    "\n",
    "seed()\t          |  Initialize the random number generator\n",
    "\n",
    "getstate()\t      |  Returns the current internal state of the random number generator\n",
    "\n",
    "setstate()\t      |  Restores the internal state of the random number generator\n",
    "\n",
    "getrandbits()\t  |  Returns a number representing the random bits\n",
    "\n",
    "randrange()\t      |  Returns a random number between the given range\n",
    "\n",
    "randint()\t      |  Returns a random number between the given range\n",
    "\n",
    "choice()\t      |  Returns a random element from the given sequence\n",
    "\n",
    "choices()\t      |  Returns a list with a random selection from the given sequence\n",
    "\n",
    "shuffle()\t      |  Takes a sequence and returns the sequence in a random order\n",
    "\n",
    "sample()\t      |  Returns a given sample of a sequence\n",
    "\n",
    "random()\t      |  Returns a random float number between 0 and 1\n",
    "\n",
    "uniform()\t      |  Returns a random float number between two given parameters\n",
    "\n",
    "betavariate()\t  |  Returns a random float number between 0 and 1 based on the Beta distribution (used in statistics)\n",
    "\n",
    "expovariate()\t  |  Returns a random float number based on the Exponential distribution (used in statistics)\n",
    "\n",
    "gammavariate()\t  |  Returns a random float number based on the Gamma distribution (used in statistics)\n",
    "\n",
    "gauss()\t          |  Returns a random float number based on the Gaussian distribution (used in probability theories)\n",
    "\n",
    "lognormvariate()  |  Returns a random float number based on a log-normal distribution (used in probability theories)\n",
    "\n",
    "normalvariate()\t  |  Returns a random float number based on the normal distribution (used in probability theories)\n",
    "\n",
    "vonmisesvariate() |  Returns a random float number based on the von Mises distribution (used in directional statistics)\n",
    "\n",
    "paretovariate()\t  |  Returns a random float number based on the Pareto distribution (used in probability theories)\n",
    "\n",
    "weibullvariate()  |  Returns a random float number based on the Weibull distribution (used in statistics)\n"
   ]
  },
  {
   "cell_type": "markdown",
   "metadata": {},
   "source": [
    "For recap:\n",
    "1) random function generates a random number from a to b (range of two numbers) \n",
    "\n",
    "2) You need to import random in order to use the random function\n",
    "\n",
    "3) Every result from an import function is equally likely to occur"
   ]
  },
  {
   "cell_type": "markdown",
   "metadata": {},
   "source": [
    "### Hacks for lesson 3.15.1\n",
    "\n",
    "* Write a few lines of code that implements the import function\n",
    "\n",
    "* Define what an import random function do\n",
    "\n",
    "* List a few other things that we can import other than random"
   ]
  },
  {
   "cell_type": "markdown",
   "metadata": {},
   "source": [
    "<hr>"
   ]
  },
  {
   "attachments": {},
   "cell_type": "markdown",
   "metadata": {},
   "source": [
    "# 3.15.2 Lesson\n",
    "- Some Essential Knowledge that you need to know\n",
    "- RANDOM (a,b) will provide you with a random integer between the numbers a-b\n",
    "- Ex. RANDOM (7,18) can provide you with the number 13.\n",
    "- Using a random generator means each result can come out as different.\n"
   ]
  },
  {
   "cell_type": "markdown",
   "metadata": {},
   "source": [
    "# Lets Try an Example Scenario\n",
    "- Try and formulate a way to write a segment of code that can simulate the flipping of a coin.\n",
    "- You have to use a random generator and assign the output of \"Heads\" or \"Tails\" to a specified result.\n"
   ]
  },
  {
   "cell_type": "code",
   "execution_count": null,
   "metadata": {},
   "outputs": [],
   "source": [
    "import random\n",
    "flip = random.randint(1,2)\n",
    " \n",
    "if flip == 1:\n",
    "    print(\"Heads\")\n",
    "else:\n",
    "    print(\"Tails\")\n",
    "\n",
    "# Try this code for yourself!\n"
   ]
  },
  {
   "attachments": {},
   "cell_type": "markdown",
   "metadata": {},
   "source": [
    "- This is a pretty simple code to understand.\n",
    "- First we use the randomization here between the 1 and 2 to determine which side of the coin we get.\n",
    "- If we get 1 then we get heads. If we get 2 or anything else than 2, then we get Tails.\n"
   ]
  },
  {
   "attachments": {},
   "cell_type": "markdown",
   "metadata": {},
   "source": [
    "## Now let's answer questions using your knowledge.\n",
    "\n",
    "- If you want yes to show up 50% of the time, which of the code segments can you use?\n",
    "\n",
    "random(1,100) <= 50\n",
    "random(1,100) == 50\n",
    "random(1,10) <= 5\n",
    "random(1,10) >= 5\n",
    "\n",
    "<html>\n",
    "<button onClick = \"revealAns\" style = \"background-color: #eb3734; color: #FFFF; border-color:#FFFF; font-size: 1.5em\">Reveal Answer</button>\n",
    "<p id=\"answer\"The answer is...\"</p>\n",
    "<script>\n",
    "    function revealAns(){\n",
    "        document.getElementbyId(\"answer\").innerHTML = \"A,C, and D!\";\n",
    "    }\n",
    "    </script>\n",
    "</html>\n",
    "\n",
    "### Why isn't the answer B?\n",
    "\n",
    "- This because when you are saying equal to 50, you are saying only when this one number shows up the output will be yes.\n",
    "- You want it to come up 50 percent of the time not just when that one number shows up.\n",
    "\n",
    "## Hacks\n",
    "- For your hacks you need to create a random number generator that will simulate this situation:\n",
    "- There is a spinner divided into eight equal parts. 3 parts of the spinner are green, two parts are blue, one part is purple, one part is red, and one part is orange. How can you simulate this situation using a random number generator.\n",
    " \n",
    "- Also answer this question: What numbers can be outputted from RANDOM(12,20) and what numbers are excluded?\n"
   ]
  }
 ],
 "metadata": {
  "kernelspec": {
   "display_name": "Python 3.9.12 ('base')",
   "language": "python",
   "name": "python3"
  },
  "language_info": {
   "codemirror_mode": {
    "name": "ipython",
    "version": 3
   },
   "file_extension": ".py",
   "mimetype": "text/x-python",
   "name": "python",
   "nbconvert_exporter": "python",
   "pygments_lexer": "ipython3",
   "version": "3.9.12"
  },
  "orig_nbformat": 4,
  "vscode": {
   "interpreter": {
    "hash": "b39cc0b7d7b7baa8a40a102196f269dabc963c0136c1c82ab9b0b53a6e35bbf2"
   }
  }
 },
 "nbformat": 4,
 "nbformat_minor": 2
}
