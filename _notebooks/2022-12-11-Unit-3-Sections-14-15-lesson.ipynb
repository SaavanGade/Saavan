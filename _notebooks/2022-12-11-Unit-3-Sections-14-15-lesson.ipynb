{
 "cells": [
  {
   "attachments": {},
   "cell_type": "markdown",
   "metadata": {},
   "source": [
    "# Unit 3 Sections 14 and 15\n",
    "> During this lesson sections 8 and 10 will discuss lists and iteration\n",
    " \n",
    "- title: Unit 3 Sections 14 and 15\n",
    "- toc: true\n",
    "- categories: [ap csp, unit 3, section 14, section 15, lesson]\n"
   ]
  },
  {
   "attachments": {},
   "cell_type": "markdown",
   "metadata": {},
   "source": [
    "### Section 3.14.1 - Libraries (Ethan Tran)"
   ]
  },
  {
   "cell_type": "markdown",
   "metadata": {},
   "source": [
    "**Learning Objective**\n",
    " \n",
    "To be able to select appropriate libraries and/or existing code to use in the creation of new programs.\n"
   ]
  },
  {
   "attachments": {},
   "cell_type": "markdown",
   "metadata": {},
   "source": [
    "**College Board Essential Knowledge**\n",
    " \n",
    "- A software library contains procedures that can be used in the creation of new programs.\n",
    "- Existing segments of code can come from internal or external sources, ie. libraries or previously written code.\n",
    "- The use of libraries simplifies the task of creating complex programs.\n",
    "- Application program interfaces (APIs) are specifications for how the procedures in a library behave and can be used.\n",
    "- Documentation for a library or API is necessary in understanding the key behaviors provided by the API/library and how to utilize them in your work."
   ]
  },
  {
   "cell_type": "markdown",
   "metadata": {},
   "source": [
    "<hr>"
   ]
  },
  {
   "cell_type": "markdown",
   "metadata": {},
   "source": [
    "## Lesson 3.15.1\n",
    "##### What is randomization?\n",
    "1) Randomization generates a value between two numbers. For example RANDOM(1,3) may result as 1 or 2 or 3, either one of those.\n",
    "\n",
    "2) Now if we look into our day to day life we can see that randomization is all around us. \n",
    "\n",
    "****Now for a piece of candy does anyone want to tell us an example of randomization during our day to day life. ****\n",
    "\n",
    "\n",
    "3) In order to use the random function we have to first import random at the very beggining.\n",
    "\n",
    "Now lets look at the code below right here."
   ]
  },
  {
   "cell_type": "code",
   "execution_count": null,
   "metadata": {},
   "outputs": [
    {
     "name": "stdout",
     "output_type": "stream",
     "text": [
      "8\n"
     ]
    }
   ],
   "source": [
    "import random\n",
    "\n",
    "answer1 = random.randint(0,3)\n",
    "answer2 = random.randint(1,8)\n",
    "answer3 = answer1 + answer2\n",
    "print(answer3)"
   ]
  },
  {
   "cell_type": "markdown",
   "metadata": {},
   "source": [
    "1) The lowest number that will be generated is 0 for answer 1 and for answer2, the lowest that will be generated is 1 so the lowest number that can be generated for answer 3 would be 1. \n",
    "\n",
    "2) The highest number that will be generated to answer1 is 3 and the highest number that will be generated for answer 2 is 8 so the highest number for answer 3 would be 11. \n",
    "\n",
    "3) The range of numbers that answer 3 could print out would be from 1 to 11.\n",
    "\n"
   ]
  },
  {
   "cell_type": "markdown",
   "metadata": {},
   "source": [
    "\n",
    "\n",
    "##### So a normal dice contains six sides with 1-6 on the individual sides. Which of the following code would simulate the result of rolling the dice three times and adds together all the obtained values together?"
   ]
  },
  {
   "cell_type": "markdown",
   "metadata": {},
   "source": [
    "##### A."
   ]
  },
  {
   "cell_type": "code",
   "execution_count": null,
   "metadata": {},
   "outputs": [
    {
     "name": "stdout",
     "output_type": "stream",
     "text": [
      "12\n"
     ]
    }
   ],
   "source": [
    "import random\n",
    "sum = random.randint(1,6) + random.randint(1,6) + random.randint(1,6)\n",
    "print(sum)"
   ]
  },
  {
   "cell_type": "markdown",
   "metadata": {},
   "source": [
    "##### B."
   ]
  },
  {
   "cell_type": "code",
   "execution_count": null,
   "metadata": {},
   "outputs": [
    {
     "name": "stdout",
     "output_type": "stream",
     "text": [
      "17\n"
     ]
    }
   ],
   "source": [
    "import random \n",
    "sum = random.randint(1,18)\n",
    "print(sum)"
   ]
  },
  {
   "cell_type": "markdown",
   "metadata": {},
   "source": [
    "##### C."
   ]
  },
  {
   "cell_type": "code",
   "execution_count": null,
   "metadata": {},
   "outputs": [
    {
     "name": "stdout",
     "output_type": "stream",
     "text": [
      "12\n"
     ]
    }
   ],
   "source": [
    "import random\n",
    "sum = 3*random.randint(1,6)\n",
    "print(sum)"
   ]
  },
  {
   "cell_type": "markdown",
   "metadata": {},
   "source": [
    "1) Its not B because B is saying that it is going to choose one number between the range of 1 and 18 and not the sum of 3 diff numbers. \n",
    "\n",
    "2) C is not correct also because C is saying that the computer is choosing one random between 1 and 6 and multiplying that 3 times but we want the sum of three different numbers between 1 and 6.\n",
    "\n",
    "3) So the answer is A. "
   ]
  },
  {
   "cell_type": "markdown",
   "metadata": {},
   "source": [
    "For the last example:"
   ]
  },
  {
   "cell_type": "code",
   "execution_count": null,
   "metadata": {},
   "outputs": [
    {
     "name": "stdout",
     "output_type": "stream",
     "text": [
      "6\n",
      "9\n",
      "8\n"
     ]
    }
   ],
   "source": [
    "import random\n",
    "i = 1\n",
    "while i < 4:\n",
    "    choose = random.randint(1,10)\n",
    "    print(choose)\n",
    "    i += 1\n"
   ]
  },
  {
   "cell_type": "markdown",
   "metadata": {},
   "source": [
    "Which answers could not be possible for the code above?\n",
    "\n",
    "A. 4 7 6\n",
    "\n",
    "B. 9 1 8\n",
    "\n",
    "C. 2 11 5\n",
    "\n",
    "D. 5 10 2"
   ]
  },
  {
   "cell_type": "markdown",
   "metadata": {},
   "source": [
    "\n",
    " "
   ]
  },
  {
   "cell_type": "markdown",
   "metadata": {},
   "source": [
    "##### Random can also have different methods, in the above examples we only used one example, randint which returns a random number between the given range. Down below I have created a table of all the methods with the description of what it is used for with the random function."
   ]
  },
  {
   "cell_type": "markdown",
   "metadata": {},
   "source": [
    "Method\t          |  Description\n",
    "\n",
    "seed()\t          |  Initialize the random number generator\n",
    "\n",
    "getstate()\t      |  Returns the current internal state of the random number generator\n",
    "\n",
    "setstate()\t      |  Restores the internal state of the random number generator\n",
    "\n",
    "getrandbits()\t  |  Returns a number representing the random bits\n",
    "\n",
    "randrange()\t      |  Returns a random number between the given range\n",
    "\n",
    "randint()\t      |  Returns a random number between the given range\n",
    "\n",
    "choice()\t      |  Returns a random element from the given sequence\n",
    "\n",
    "choices()\t      |  Returns a list with a random selection from the given sequence\n",
    "\n",
    "shuffle()\t      |  Takes a sequence and returns the sequence in a random order\n",
    "\n",
    "sample()\t      |  Returns a given sample of a sequence\n",
    "\n",
    "random()\t      |  Returns a random float number between 0 and 1\n",
    "\n",
    "uniform()\t      |  Returns a random float number between two given parameters\n",
    "\n",
    "betavariate()\t  |  Returns a random float number between 0 and 1 based on the Beta distribution (used in statistics)\n",
    "\n",
    "expovariate()\t  |  Returns a random float number based on the Exponential distribution (used in statistics)\n",
    "\n",
    "gammavariate()\t  |  Returns a random float number based on the Gamma distribution (used in statistics)\n",
    "\n",
    "gauss()\t          |  Returns a random float number based on the Gaussian distribution (used in probability theories)\n",
    "\n",
    "lognormvariate()  |  Returns a random float number based on a log-normal distribution (used in probability theories)\n",
    "\n",
    "normalvariate()\t  |  Returns a random float number based on the normal distribution (used in probability theories)\n",
    "\n",
    "vonmisesvariate() |  Returns a random float number based on the von Mises distribution (used in directional statistics)\n",
    "\n",
    "paretovariate()\t  |  Returns a random float number based on the Pareto distribution (used in probability theories)\n",
    "\n",
    "weibullvariate()  |  Returns a random float number based on the Weibull distribution (used in statistics)\n"
   ]
  },
  {
   "cell_type": "markdown",
   "metadata": {},
   "source": [
    "For recap:\n",
    "1) random function generates a random number from a to b (range of two numbers) \n",
    "\n",
    "2) You need to import random in order to use the random function\n",
    "\n",
    "3) Every result from an import function is equally likely to occur"
   ]
  },
  {
   "cell_type": "markdown",
   "metadata": {},
   "source": [
    "### Hacks for lesson 3.15.1\n",
    "\n",
    "* Write a few lines of code that implements the import function\n",
    "\n",
    "* Define what an import random function do\n",
    "\n",
    "* List a few other things that we can import other than random"
   ]
  },
  {
   "cell_type": "markdown",
   "metadata": {},
   "source": [
    "<hr>"
   ]
  },
  {
   "cell_type": "markdown",
   "metadata": {},
   "source": [
    "## Lesson 3.15.2"
   ]
  }
 ],
 "metadata": {
  "kernelspec": {
   "display_name": "Python 3.9.12 ('base')",
   "language": "python",
   "name": "python3"
  },
  "language_info": {
   "codemirror_mode": {
    "name": "ipython",
    "version": 3
   },
   "file_extension": ".py",
   "mimetype": "text/x-python",
   "name": "python",
   "nbconvert_exporter": "python",
   "pygments_lexer": "ipython3",
   "version": "3.9.12"
  },
  "orig_nbformat": 4,
  "vscode": {
   "interpreter": {
    "hash": "b39cc0b7d7b7baa8a40a102196f269dabc963c0136c1c82ab9b0b53a6e35bbf2"
   }
  }
 },
 "nbformat": 4,
 "nbformat_minor": 2
}
