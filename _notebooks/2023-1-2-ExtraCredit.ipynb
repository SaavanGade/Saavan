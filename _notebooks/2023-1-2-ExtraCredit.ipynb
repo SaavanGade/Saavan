{
 "cells": [
  {
   "cell_type": "markdown",
   "metadata": {},
   "source": [
    "# Extra Credit\n",
    "\n",
    "- toc: true \n",
    "- badges: true\n",
    "- comments: true"
   ]
  },
  {
   "cell_type": "markdown",
   "metadata": {},
   "source": [
    "## To-Do task list"
   ]
  },
  {
   "cell_type": "code",
   "execution_count": 4,
   "metadata": {},
   "outputs": [
    {
     "name": "stdout",
     "output_type": "stream",
     "text": [
      "{'eat': False, 'lunch': True}\n"
     ]
    }
   ],
   "source": [
    "tasks = {}\n",
    "\n",
    "def add_task(task):\n",
    "    tasks[task] = False\n",
    "\n",
    "def complete_task(task):\n",
    "    tasks[task] = True\n",
    "\n",
    "def list_tasks():\n",
    "    for task, completed in tasks.items():\n",
    "        print(f\"{task}: {completed}\")\n",
    "\n",
    "while True:\n",
    "    action = input(\"What would you like to do? \")\n",
    "    if action == \"add\":\n",
    "        task = input(\"Enter the task to add: \")\n",
    "        add_task(task)\n",
    "    elif action == \"complete\":\n",
    "        task = input(\"Enter the task to complete: \")\n",
    "        complete_task(task)\n",
    "    elif action == \"list\":\n",
    "        list_tasks()\n",
    "    elif action == \"quit\":\n",
    "        break\n",
    "    else:\n",
    "        print(\"Invalid action\")\n",
    "\n",
    "print(tasks)\n"
   ]
  },
  {
   "cell_type": "markdown",
   "metadata": {},
   "source": [
    "This code is a simple task management program that allows the user to add tasks, mark tasks as complete, and list all the tasks.\n",
    "\n",
    "The program begins by defining an empty dictionary called tasks. The dictionary will store the tasks as keys and a boolean value indicating whether the task has been completed or not.\n",
    "\n",
    "The program then defines three functions:\n",
    "\n",
    "add_task: This function adds a task to the dictionary with a value of False (indicating it has not been completed yet).\n",
    "complete_task: This function sets the value of a given task to True (indicating it has been completed).\n",
    "list_tasks: This function iterates through the tasks in the dictionary and prints the task name and its completion status.\n",
    "The program then enters a while loop that prompts the user for an action (either \"add\", \"complete\", \"list\", or \"quit\"). If the action is \"add\", the program prompts the user for a task and adds it to the dictionary using the add_task function. If the action is \"complete\", the program prompts the user for a task and marks it as complete using the complete_task function. If the action is \"list\", the program lists all the tasks using the list_tasks function. If the action is \"quit\", the program breaks out of the while loop and ends. If the user enters an invalid action, the program prints an error message.\n",
    "\n",
    "Finally, after the while loop ends, the program prints the dictionary of tasks."
   ]
  },
  {
   "cell_type": "markdown",
   "metadata": {},
   "source": [
    "## Rock Paper Scissors game"
   ]
  },
  {
   "cell_type": "code",
   "execution_count": 9,
   "metadata": {},
   "outputs": [
    {
     "name": "stdout",
     "output_type": "stream",
     "text": [
      "You chose paper and the computer chose rock\n",
      "You win!\n"
     ]
    }
   ],
   "source": [
    "import random\n",
    "\n",
    "choices = [\"rock\", \"paper\", \"scissors\"]\n",
    "\n",
    "def play_game():\n",
    "    # Get the user's choice\n",
    "    user_choice = input(\"Enter your choice (rock/paper/scissors): \")\n",
    "    # Get the computer's choice\n",
    "    computer_choice = random.choice(choices)\n",
    "    # Determine the winner\n",
    "    if user_choice == computer_choice:\n",
    "        result = \"Tie\"\n",
    "    elif user_choice == \"rock\" and computer_choice == \"scissors\":\n",
    "        result = \"You win!\"\n",
    "    elif user_choice == \"paper\" and computer_choice == \"rock\":\n",
    "        result = \"You win!\"\n",
    "    elif user_choice == \"scissors\" and computer_choice == \"paper\":\n",
    "        result = \"You win!\"\n",
    "    else:\n",
    "        result = \"Computer wins\"\n",
    "    # Print the results\n",
    "    print(f\"You chose {user_choice} and the computer chose {computer_choice}\")\n",
    "    print(result)\n",
    "\n",
    "# Play the game\n",
    "play_game()\n"
   ]
  },
  {
   "cell_type": "markdown",
   "metadata": {},
   "source": [
    "This code is a simple Rock-Paper-Scissors game that allows the user to play against the computer.\n",
    "\n",
    "The program begins by importing the random module and defining a list of choices. It then defines the play_game function, which prompts the user for their choice and generates a random choice for the computer using the random.choice function.\n",
    "\n",
    "The program then determines the winner of the game by comparing the user's choice and the computer's choice. If the user's choice is the same as the computer's choice, it's a tie. Otherwise, it checks if the user's choice wins against the computer's choice using a series of if statements. If none of the conditions are met, the result is \"Computer wins\".\n",
    "\n",
    "The program then prints the results of the game, including the user's choice and the computer's choice.\n",
    "\n",
    "To play the game, you can run this code in a Python interpreter or save it to a file and run it with python filename.py. The program will prompt you to enter your choice, and then print the results of the game."
   ]
  },
  {
   "cell_type": "markdown",
   "metadata": {},
   "source": [
    "## This is a simple mad libs game"
   ]
  },
  {
   "cell_type": "code",
   "execution_count": 11,
   "metadata": {},
   "outputs": [
    {
     "name": "stdout",
     "output_type": "stream",
     "text": [
      "The fast saavan likes to run a lot.\n"
     ]
    }
   ],
   "source": [
    "def mad_libs():\n",
    "    noun = input(\"Enter a noun: \")\n",
    "    verb = input(\"Enter a verb: \")\n",
    "    adjective = input(\"Enter an adjective: \")\n",
    "    adverb = input(\"Enter an adverb: \")\n",
    "\n",
    "    print(f\"The {adjective} {noun} likes to {verb} {adverb}.\")\n",
    "\n",
    "mad_libs()\n"
   ]
  },
  {
   "cell_type": "markdown",
   "metadata": {},
   "source": [
    "This code is a simple Mad Libs program that prompts the user for a noun, verb, adjective, and adverb, and then uses those words to create and print a sentence.\n",
    "\n",
    "The program begins by defining the mad_libs function, which prompts the user for a noun, verb, adjective, and adverb and stores them in variables. It then uses these variables to create a sentence using string formatting, and prints the sentence to the screen.\n",
    "\n",
    "To play Mad Libs, you can run this code in a Python interpreter or save it to a file and run it with python filename.py. The program will prompt you to enter the words, and then print the generated sentence. You can customize the program by adding more prompts for different parts of speech and incorporating them into the sentence. You can also add more sentences or create a function to generate multiple Mad Libs sentences. Let me know if you have any specific questions about how to customize the program!"
   ]
  }
 ],
 "metadata": {
  "kernelspec": {
   "display_name": "Python 3.9.12 ('base')",
   "language": "python",
   "name": "python3"
  },
  "language_info": {
   "codemirror_mode": {
    "name": "ipython",
    "version": 3
   },
   "file_extension": ".py",
   "mimetype": "text/x-python",
   "name": "python",
   "nbconvert_exporter": "python",
   "pygments_lexer": "ipython3",
   "version": "3.9.12"
  },
  "orig_nbformat": 4,
  "vscode": {
   "interpreter": {
    "hash": "b39cc0b7d7b7baa8a40a102196f269dabc963c0136c1c82ab9b0b53a6e35bbf2"
   }
  }
 },
 "nbformat": 4,
 "nbformat_minor": 2
}
