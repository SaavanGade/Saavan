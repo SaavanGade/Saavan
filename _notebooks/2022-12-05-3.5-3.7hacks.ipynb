{
 "cells": [
  {
   "cell_type": "markdown",
   "metadata": {},
   "source": [
    "# Unit 3.5-3.7 Hacks\n",
    "- toc: true \n",
    "- badges: true\n",
    "- comments: true\n",
    "- categories: [slatt]\n",
    "- permalink: /hackzzzzz\n",
    "- image: images/chart-preview.png\n",
    "\n",
    "- AND determines if both of the statements are true\n",
    "- OR determines if either one are true, and even if both are true it will still work\n",
    "- NOT checks if a certain condition is not met, for example no sunny checks to see if its cloudy \n",
    "- Code your own scenario that makes sense for each logical operator"
   ]
  },
  {
   "cell_type": "code",
   "execution_count": 3,
   "metadata": {},
   "outputs": [
    {
     "name": "stdout",
     "output_type": "stream",
     "text": [
      "it quite sunny\n",
      "You meet the requirements for this ride!\n",
      "you are quite happy\n"
     ]
    }
   ],
   "source": [
    "# NOT\n",
    "\n",
    "sun = False\n",
    "if not sun:\n",
    "    print(\"it quite sunny\")\n",
    "\n",
    "# AND\n",
    "\n",
    "weight = 240\n",
    "age = 19\n",
    "if weight >= 150 and age >= 15:\n",
    "    print(\"You meet the requirements for this ride!\")\n",
    "\n",
    "# OR\n",
    "\n",
    "emotion = \"sad\"\n",
    "if emotion==\"sad\" or emotion==\"lonely\":\n",
    "    print(\"you are quite happy\")"
   ]
  },
  {
   "cell_type": "code",
   "execution_count": 4,
   "metadata": {},
   "outputs": [
    {
     "name": "stdout",
     "output_type": "stream",
     "text": [
      "are you going to school tommorow?\n",
      "great\n"
     ]
    }
   ],
   "source": [
    "print(\"are you going to school tommorow?\")\n",
    "reply = input(\"yes or no\")\n",
    "if reply == \"yes\":\n",
    "    print(\"great\")\n",
    "if reply == \"no\":\n",
    "    print(\"oh no\")"
   ]
  },
  {
   "cell_type": "markdown",
   "metadata": {},
   "source": [
    "- 1 point for defining all the key terms in your own words. 0.5 points if you use examples that show you truly understand it.\n",
    "\n",
    "- Selection: If something is true a specific code will run. EX: If answer is yes then a code block will run\n",
    "- Algorithm: a procedure of code that does something or a task. EX: algorithm that takes in your grades and gives out a GPA number\n",
    "- Conditional statement: runs a function depending or executs if TRUE. EX: if the sun is out, then it is sunny. 1 point for writing a program that uses binary conditional logic. 0.5 points if it is original and shows complexity"
   ]
  },
  {
   "cell_type": "code",
   "execution_count": 1,
   "metadata": {},
   "outputs": [
    {
     "name": "stdout",
     "output_type": "stream",
     "text": [
      "AND\n",
      "0 & 0 = 0\n",
      "1 & 1 = 1\n",
      "0 & 1 = 0\n",
      "1 & 0 = 0\n",
      "0 & 1 = 0\n",
      "OR\n",
      "1 | 1 = 1\n",
      "1 | 1 = 1\n",
      "1 | 0 = 1\n",
      "1 | 1 = 1\n",
      "0 | 0 = 0\n",
      "XOR\n",
      "1 ^ 0 = 1\n",
      "1 ^ 0 = 1\n",
      "1 ^ 0 = 1\n",
      "1 ^ 1 = 0\n",
      "1 ^ 0 = 1\n"
     ]
    }
   ],
   "source": [
    "import random\n",
    "numbers = [0,1]\n",
    "def AND():  \n",
    "    num1 = random.choice(numbers)\n",
    "    num2 = random.choice(numbers)\n",
    "    print(num1, \"&\", num2, \"=\", num1 & num2)\n",
    "print(\"AND\")\n",
    "for i in range(5):\n",
    "    AND()\n",
    "def OR():  \n",
    "    num1 = random.choice(numbers)\n",
    "    num2 = random.choice(numbers)\n",
    "    print(num1, \"|\", num2, \"=\", num1 | num2)\n",
    "print(\"OR\")\n",
    "for i in range(5):\n",
    "    OR()\n",
    "def XOR():  \n",
    "    num1 = random.choice(numbers)\n",
    "    num2 = random.choice(numbers)\n",
    "    print(num1, \"^\", num2, \"=\", num1 ^ num2)\n",
    "print(\"XOR\")\n",
    "for i in range(5):\n",
    "    XOR()"
   ]
  },
  {
   "cell_type": "code",
   "execution_count": 5,
   "metadata": {},
   "outputs": [
    {
     "name": "stdout",
     "output_type": "stream",
     "text": [
      "what quarter of the year are you in?\n",
      "Then its April, May or June\n"
     ]
    }
   ],
   "source": [
    "print(\"what quarter of the year are you in?\")\n",
    "reply = input(\"1, 2, 3 or 4\")\n",
    "if reply == \"1\":\n",
    "    print(\"Then its January, February or March\")\n",
    "if reply == \"2\":\n",
    "    print(\"Then its April, May or June\")\n",
    "if reply == \"3\":\n",
    "    print(\"Then its June, August or September\")\n",
    "if reply == \"4\":\n",
    "    print(\"Then its October, November or December\")"
   ]
  }
 ],
 "metadata": {
  "kernelspec": {
   "display_name": "Python 3.9.12 ('base')",
   "language": "python",
   "name": "python3"
  },
  "language_info": {
   "codemirror_mode": {
    "name": "ipython",
    "version": 3
   },
   "file_extension": ".py",
   "mimetype": "text/x-python",
   "name": "python",
   "nbconvert_exporter": "python",
   "pygments_lexer": "ipython3",
   "version": "3.9.12"
  },
  "orig_nbformat": 4,
  "vscode": {
   "interpreter": {
    "hash": "b39cc0b7d7b7baa8a40a102196f269dabc963c0136c1c82ab9b0b53a6e35bbf2"
   }
  }
 },
 "nbformat": 4,
 "nbformat_minor": 2
}
